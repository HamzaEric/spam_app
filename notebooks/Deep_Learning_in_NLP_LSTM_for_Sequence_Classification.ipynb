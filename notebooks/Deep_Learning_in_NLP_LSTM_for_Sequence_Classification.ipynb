{
  "nbformat": 4,
  "nbformat_minor": 0,
  "metadata": {
    "colab": {
      "provenance": []
    },
    "kernelspec": {
      "name": "python3",
      "display_name": "Python 3"
    },
    "language_info": {
      "name": "python"
    }
  },
  "cells": [
    {
      "cell_type": "markdown",
      "source": [
        "# Implementing LSTM for Spam SMS Classification in NLP\n",
        "\n",
        "LSTM networks are particularly effective in capturing long-term dependencies in sequences, such as words in a sentence"
      ],
      "metadata": {
        "id": "nq-1dDCXsC_Z"
      }
    },
    {
      "cell_type": "code",
      "source": [
        "import nltk\n",
        "import pandas as pd\n",
        "import numpy as np\n",
        "from nltk.stem import WordNetLemmatizer\n",
        "from nltk.tokenize import word_tokenize\n",
        "from nltk.corpus import stopwords\n",
        "import sklearn.metrics as m\n",
        "from sklearn.model_selection import train_test_split\n",
        "import matplotlib.pyplot as plt"
      ],
      "metadata": {
        "id": "80G8xKQxtzlI"
      },
      "execution_count": 214,
      "outputs": []
    },
    {
      "cell_type": "code",
      "source": [
        "nltk.download('wordnet')\n",
        "nltk.download('punkt')\n",
        "nltk.download('stopwords')"
      ],
      "metadata": {
        "colab": {
          "base_uri": "https://localhost:8080/"
        },
        "id": "CXUDcYaut158",
        "outputId": "030fa9b9-a4ff-43f2-fdfd-33567d8bdb94"
      },
      "execution_count": 215,
      "outputs": [
        {
          "output_type": "stream",
          "name": "stderr",
          "text": [
            "[nltk_data] Downloading package wordnet to /root/nltk_data...\n",
            "[nltk_data]   Package wordnet is already up-to-date!\n",
            "[nltk_data] Downloading package punkt to /root/nltk_data...\n",
            "[nltk_data]   Package punkt is already up-to-date!\n",
            "[nltk_data] Downloading package stopwords to /root/nltk_data...\n",
            "[nltk_data]   Package stopwords is already up-to-date!\n"
          ]
        },
        {
          "output_type": "execute_result",
          "data": {
            "text/plain": [
              "True"
            ]
          },
          "metadata": {},
          "execution_count": 215
        }
      ]
    },
    {
      "cell_type": "code",
      "source": [
        "df=pd.read_csv('/content/drive/MyDrive/DataSets/spam.csv',encoding='latin')\n",
        "df.head()"
      ],
      "metadata": {
        "colab": {
          "base_uri": "https://localhost:8080/",
          "height": 206
        },
        "id": "u5LhVYbTt8Xj",
        "outputId": "e1873c9d-6b6f-4ea2-9a37-23e85ff7f9b9"
      },
      "execution_count": 216,
      "outputs": [
        {
          "output_type": "execute_result",
          "data": {
            "text/plain": [
              "     v1                                                 v2 Unnamed: 2  \\\n",
              "0   ham  Go until jurong point, crazy.. Available only ...        NaN   \n",
              "1   ham                      Ok lar... Joking wif u oni...        NaN   \n",
              "2  spam  Free entry in 2 a wkly comp to win FA Cup fina...        NaN   \n",
              "3   ham  U dun say so early hor... U c already then say...        NaN   \n",
              "4   ham  Nah I don't think he goes to usf, he lives aro...        NaN   \n",
              "\n",
              "  Unnamed: 3 Unnamed: 4  \n",
              "0        NaN        NaN  \n",
              "1        NaN        NaN  \n",
              "2        NaN        NaN  \n",
              "3        NaN        NaN  \n",
              "4        NaN        NaN  "
            ],
            "text/html": [
              "\n",
              "  <div id=\"df-0aefb07e-535e-4d9d-b9ab-d23764ca40ed\" class=\"colab-df-container\">\n",
              "    <div>\n",
              "<style scoped>\n",
              "    .dataframe tbody tr th:only-of-type {\n",
              "        vertical-align: middle;\n",
              "    }\n",
              "\n",
              "    .dataframe tbody tr th {\n",
              "        vertical-align: top;\n",
              "    }\n",
              "\n",
              "    .dataframe thead th {\n",
              "        text-align: right;\n",
              "    }\n",
              "</style>\n",
              "<table border=\"1\" class=\"dataframe\">\n",
              "  <thead>\n",
              "    <tr style=\"text-align: right;\">\n",
              "      <th></th>\n",
              "      <th>v1</th>\n",
              "      <th>v2</th>\n",
              "      <th>Unnamed: 2</th>\n",
              "      <th>Unnamed: 3</th>\n",
              "      <th>Unnamed: 4</th>\n",
              "    </tr>\n",
              "  </thead>\n",
              "  <tbody>\n",
              "    <tr>\n",
              "      <th>0</th>\n",
              "      <td>ham</td>\n",
              "      <td>Go until jurong point, crazy.. Available only ...</td>\n",
              "      <td>NaN</td>\n",
              "      <td>NaN</td>\n",
              "      <td>NaN</td>\n",
              "    </tr>\n",
              "    <tr>\n",
              "      <th>1</th>\n",
              "      <td>ham</td>\n",
              "      <td>Ok lar... Joking wif u oni...</td>\n",
              "      <td>NaN</td>\n",
              "      <td>NaN</td>\n",
              "      <td>NaN</td>\n",
              "    </tr>\n",
              "    <tr>\n",
              "      <th>2</th>\n",
              "      <td>spam</td>\n",
              "      <td>Free entry in 2 a wkly comp to win FA Cup fina...</td>\n",
              "      <td>NaN</td>\n",
              "      <td>NaN</td>\n",
              "      <td>NaN</td>\n",
              "    </tr>\n",
              "    <tr>\n",
              "      <th>3</th>\n",
              "      <td>ham</td>\n",
              "      <td>U dun say so early hor... U c already then say...</td>\n",
              "      <td>NaN</td>\n",
              "      <td>NaN</td>\n",
              "      <td>NaN</td>\n",
              "    </tr>\n",
              "    <tr>\n",
              "      <th>4</th>\n",
              "      <td>ham</td>\n",
              "      <td>Nah I don't think he goes to usf, he lives aro...</td>\n",
              "      <td>NaN</td>\n",
              "      <td>NaN</td>\n",
              "      <td>NaN</td>\n",
              "    </tr>\n",
              "  </tbody>\n",
              "</table>\n",
              "</div>\n",
              "    <div class=\"colab-df-buttons\">\n",
              "\n",
              "  <div class=\"colab-df-container\">\n",
              "    <button class=\"colab-df-convert\" onclick=\"convertToInteractive('df-0aefb07e-535e-4d9d-b9ab-d23764ca40ed')\"\n",
              "            title=\"Convert this dataframe to an interactive table.\"\n",
              "            style=\"display:none;\">\n",
              "\n",
              "  <svg xmlns=\"http://www.w3.org/2000/svg\" height=\"24px\" viewBox=\"0 -960 960 960\">\n",
              "    <path d=\"M120-120v-720h720v720H120Zm60-500h600v-160H180v160Zm220 220h160v-160H400v160Zm0 220h160v-160H400v160ZM180-400h160v-160H180v160Zm440 0h160v-160H620v160ZM180-180h160v-160H180v160Zm440 0h160v-160H620v160Z\"/>\n",
              "  </svg>\n",
              "    </button>\n",
              "\n",
              "  <style>\n",
              "    .colab-df-container {\n",
              "      display:flex;\n",
              "      gap: 12px;\n",
              "    }\n",
              "\n",
              "    .colab-df-convert {\n",
              "      background-color: #E8F0FE;\n",
              "      border: none;\n",
              "      border-radius: 50%;\n",
              "      cursor: pointer;\n",
              "      display: none;\n",
              "      fill: #1967D2;\n",
              "      height: 32px;\n",
              "      padding: 0 0 0 0;\n",
              "      width: 32px;\n",
              "    }\n",
              "\n",
              "    .colab-df-convert:hover {\n",
              "      background-color: #E2EBFA;\n",
              "      box-shadow: 0px 1px 2px rgba(60, 64, 67, 0.3), 0px 1px 3px 1px rgba(60, 64, 67, 0.15);\n",
              "      fill: #174EA6;\n",
              "    }\n",
              "\n",
              "    .colab-df-buttons div {\n",
              "      margin-bottom: 4px;\n",
              "    }\n",
              "\n",
              "    [theme=dark] .colab-df-convert {\n",
              "      background-color: #3B4455;\n",
              "      fill: #D2E3FC;\n",
              "    }\n",
              "\n",
              "    [theme=dark] .colab-df-convert:hover {\n",
              "      background-color: #434B5C;\n",
              "      box-shadow: 0px 1px 3px 1px rgba(0, 0, 0, 0.15);\n",
              "      filter: drop-shadow(0px 1px 2px rgba(0, 0, 0, 0.3));\n",
              "      fill: #FFFFFF;\n",
              "    }\n",
              "  </style>\n",
              "\n",
              "    <script>\n",
              "      const buttonEl =\n",
              "        document.querySelector('#df-0aefb07e-535e-4d9d-b9ab-d23764ca40ed button.colab-df-convert');\n",
              "      buttonEl.style.display =\n",
              "        google.colab.kernel.accessAllowed ? 'block' : 'none';\n",
              "\n",
              "      async function convertToInteractive(key) {\n",
              "        const element = document.querySelector('#df-0aefb07e-535e-4d9d-b9ab-d23764ca40ed');\n",
              "        const dataTable =\n",
              "          await google.colab.kernel.invokeFunction('convertToInteractive',\n",
              "                                                    [key], {});\n",
              "        if (!dataTable) return;\n",
              "\n",
              "        const docLinkHtml = 'Like what you see? Visit the ' +\n",
              "          '<a target=\"_blank\" href=https://colab.research.google.com/notebooks/data_table.ipynb>data table notebook</a>'\n",
              "          + ' to learn more about interactive tables.';\n",
              "        element.innerHTML = '';\n",
              "        dataTable['output_type'] = 'display_data';\n",
              "        await google.colab.output.renderOutput(dataTable, element);\n",
              "        const docLink = document.createElement('div');\n",
              "        docLink.innerHTML = docLinkHtml;\n",
              "        element.appendChild(docLink);\n",
              "      }\n",
              "    </script>\n",
              "  </div>\n",
              "\n",
              "\n",
              "<div id=\"df-d62ceed4-161b-4de8-bf09-19857873526c\">\n",
              "  <button class=\"colab-df-quickchart\" onclick=\"quickchart('df-d62ceed4-161b-4de8-bf09-19857873526c')\"\n",
              "            title=\"Suggest charts\"\n",
              "            style=\"display:none;\">\n",
              "\n",
              "<svg xmlns=\"http://www.w3.org/2000/svg\" height=\"24px\"viewBox=\"0 0 24 24\"\n",
              "     width=\"24px\">\n",
              "    <g>\n",
              "        <path d=\"M19 3H5c-1.1 0-2 .9-2 2v14c0 1.1.9 2 2 2h14c1.1 0 2-.9 2-2V5c0-1.1-.9-2-2-2zM9 17H7v-7h2v7zm4 0h-2V7h2v10zm4 0h-2v-4h2v4z\"/>\n",
              "    </g>\n",
              "</svg>\n",
              "  </button>\n",
              "\n",
              "<style>\n",
              "  .colab-df-quickchart {\n",
              "      --bg-color: #E8F0FE;\n",
              "      --fill-color: #1967D2;\n",
              "      --hover-bg-color: #E2EBFA;\n",
              "      --hover-fill-color: #174EA6;\n",
              "      --disabled-fill-color: #AAA;\n",
              "      --disabled-bg-color: #DDD;\n",
              "  }\n",
              "\n",
              "  [theme=dark] .colab-df-quickchart {\n",
              "      --bg-color: #3B4455;\n",
              "      --fill-color: #D2E3FC;\n",
              "      --hover-bg-color: #434B5C;\n",
              "      --hover-fill-color: #FFFFFF;\n",
              "      --disabled-bg-color: #3B4455;\n",
              "      --disabled-fill-color: #666;\n",
              "  }\n",
              "\n",
              "  .colab-df-quickchart {\n",
              "    background-color: var(--bg-color);\n",
              "    border: none;\n",
              "    border-radius: 50%;\n",
              "    cursor: pointer;\n",
              "    display: none;\n",
              "    fill: var(--fill-color);\n",
              "    height: 32px;\n",
              "    padding: 0;\n",
              "    width: 32px;\n",
              "  }\n",
              "\n",
              "  .colab-df-quickchart:hover {\n",
              "    background-color: var(--hover-bg-color);\n",
              "    box-shadow: 0 1px 2px rgba(60, 64, 67, 0.3), 0 1px 3px 1px rgba(60, 64, 67, 0.15);\n",
              "    fill: var(--button-hover-fill-color);\n",
              "  }\n",
              "\n",
              "  .colab-df-quickchart-complete:disabled,\n",
              "  .colab-df-quickchart-complete:disabled:hover {\n",
              "    background-color: var(--disabled-bg-color);\n",
              "    fill: var(--disabled-fill-color);\n",
              "    box-shadow: none;\n",
              "  }\n",
              "\n",
              "  .colab-df-spinner {\n",
              "    border: 2px solid var(--fill-color);\n",
              "    border-color: transparent;\n",
              "    border-bottom-color: var(--fill-color);\n",
              "    animation:\n",
              "      spin 1s steps(1) infinite;\n",
              "  }\n",
              "\n",
              "  @keyframes spin {\n",
              "    0% {\n",
              "      border-color: transparent;\n",
              "      border-bottom-color: var(--fill-color);\n",
              "      border-left-color: var(--fill-color);\n",
              "    }\n",
              "    20% {\n",
              "      border-color: transparent;\n",
              "      border-left-color: var(--fill-color);\n",
              "      border-top-color: var(--fill-color);\n",
              "    }\n",
              "    30% {\n",
              "      border-color: transparent;\n",
              "      border-left-color: var(--fill-color);\n",
              "      border-top-color: var(--fill-color);\n",
              "      border-right-color: var(--fill-color);\n",
              "    }\n",
              "    40% {\n",
              "      border-color: transparent;\n",
              "      border-right-color: var(--fill-color);\n",
              "      border-top-color: var(--fill-color);\n",
              "    }\n",
              "    60% {\n",
              "      border-color: transparent;\n",
              "      border-right-color: var(--fill-color);\n",
              "    }\n",
              "    80% {\n",
              "      border-color: transparent;\n",
              "      border-right-color: var(--fill-color);\n",
              "      border-bottom-color: var(--fill-color);\n",
              "    }\n",
              "    90% {\n",
              "      border-color: transparent;\n",
              "      border-bottom-color: var(--fill-color);\n",
              "    }\n",
              "  }\n",
              "</style>\n",
              "\n",
              "  <script>\n",
              "    async function quickchart(key) {\n",
              "      const quickchartButtonEl =\n",
              "        document.querySelector('#' + key + ' button');\n",
              "      quickchartButtonEl.disabled = true;  // To prevent multiple clicks.\n",
              "      quickchartButtonEl.classList.add('colab-df-spinner');\n",
              "      try {\n",
              "        const charts = await google.colab.kernel.invokeFunction(\n",
              "            'suggestCharts', [key], {});\n",
              "      } catch (error) {\n",
              "        console.error('Error during call to suggestCharts:', error);\n",
              "      }\n",
              "      quickchartButtonEl.classList.remove('colab-df-spinner');\n",
              "      quickchartButtonEl.classList.add('colab-df-quickchart-complete');\n",
              "    }\n",
              "    (() => {\n",
              "      let quickchartButtonEl =\n",
              "        document.querySelector('#df-d62ceed4-161b-4de8-bf09-19857873526c button');\n",
              "      quickchartButtonEl.style.display =\n",
              "        google.colab.kernel.accessAllowed ? 'block' : 'none';\n",
              "    })();\n",
              "  </script>\n",
              "</div>\n",
              "\n",
              "    </div>\n",
              "  </div>\n"
            ],
            "application/vnd.google.colaboratory.intrinsic+json": {
              "type": "dataframe",
              "variable_name": "df",
              "summary": "{\n  \"name\": \"df\",\n  \"rows\": 5572,\n  \"fields\": [\n    {\n      \"column\": \"v1\",\n      \"properties\": {\n        \"dtype\": \"category\",\n        \"num_unique_values\": 2,\n        \"samples\": [\n          \"spam\",\n          \"ham\"\n        ],\n        \"semantic_type\": \"\",\n        \"description\": \"\"\n      }\n    },\n    {\n      \"column\": \"v2\",\n      \"properties\": {\n        \"dtype\": \"string\",\n        \"num_unique_values\": 5169,\n        \"samples\": [\n          \"Did u download the fring app?\",\n          \"Pass dis to all ur contacts n see wat u get! Red;i'm in luv wid u. Blue;u put a smile on my face. Purple;u r realy hot. Pink;u r so swt. Orange;i thnk i lyk u. Green;i realy wana go out wid u. Yelow;i wnt u bck. Black;i'm jealous of u. Brown;i miss you Nw plz giv me one color\"\n        ],\n        \"semantic_type\": \"\",\n        \"description\": \"\"\n      }\n    },\n    {\n      \"column\": \"Unnamed: 2\",\n      \"properties\": {\n        \"dtype\": \"category\",\n        \"num_unique_values\": 43,\n        \"samples\": [\n          \" GOD said\",\n          \" SHE SHUDVETOLD U. DID URGRAN KNOW?NEWAY\"\n        ],\n        \"semantic_type\": \"\",\n        \"description\": \"\"\n      }\n    },\n    {\n      \"column\": \"Unnamed: 3\",\n      \"properties\": {\n        \"dtype\": \"category\",\n        \"num_unique_values\": 10,\n        \"samples\": [\n          \" \\\\\\\"OH No! COMPETITION\\\\\\\". Who knew\",\n          \" why to miss them\"\n        ],\n        \"semantic_type\": \"\",\n        \"description\": \"\"\n      }\n    },\n    {\n      \"column\": \"Unnamed: 4\",\n      \"properties\": {\n        \"dtype\": \"category\",\n        \"num_unique_values\": 5,\n        \"samples\": [\n          \"GNT:-)\\\"\",\n          \" one day these two will become FREINDS FOREVER!\\\"\"\n        ],\n        \"semantic_type\": \"\",\n        \"description\": \"\"\n      }\n    }\n  ]\n}"
            }
          },
          "metadata": {},
          "execution_count": 216
        }
      ]
    },
    {
      "cell_type": "code",
      "source": [
        "from google.colab import drive\n",
        "drive.mount('/content/drive')"
      ],
      "metadata": {
        "colab": {
          "base_uri": "https://localhost:8080/"
        },
        "id": "C-jnA2rC07_H",
        "outputId": "b97cedb4-e390-47ab-b1b1-eacd4c83838a"
      },
      "execution_count": 217,
      "outputs": [
        {
          "output_type": "stream",
          "name": "stdout",
          "text": [
            "Drive already mounted at /content/drive; to attempt to forcibly remount, call drive.mount(\"/content/drive\", force_remount=True).\n"
          ]
        }
      ]
    },
    {
      "cell_type": "code",
      "source": [
        "df['v2'].info()"
      ],
      "metadata": {
        "colab": {
          "base_uri": "https://localhost:8080/"
        },
        "id": "Zn1if5xkuRKa",
        "outputId": "68059e78-149e-46ea-c99a-7a6ce7b1d3e3"
      },
      "execution_count": 218,
      "outputs": [
        {
          "output_type": "stream",
          "name": "stdout",
          "text": [
            "<class 'pandas.core.series.Series'>\n",
            "RangeIndex: 5572 entries, 0 to 5571\n",
            "Series name: v2\n",
            "Non-Null Count  Dtype \n",
            "--------------  ----- \n",
            "5572 non-null   object\n",
            "dtypes: object(1)\n",
            "memory usage: 43.7+ KB\n"
          ]
        }
      ]
    },
    {
      "cell_type": "code",
      "source": [
        "df['v1'].info()"
      ],
      "metadata": {
        "colab": {
          "base_uri": "https://localhost:8080/"
        },
        "id": "vh6SgzUhuvQH",
        "outputId": "06f5c7a8-3583-443c-8c61-c88758914e57"
      },
      "execution_count": 219,
      "outputs": [
        {
          "output_type": "stream",
          "name": "stdout",
          "text": [
            "<class 'pandas.core.series.Series'>\n",
            "RangeIndex: 5572 entries, 0 to 5571\n",
            "Series name: v1\n",
            "Non-Null Count  Dtype \n",
            "--------------  ----- \n",
            "5572 non-null   object\n",
            "dtypes: object(1)\n",
            "memory usage: 43.7+ KB\n"
          ]
        }
      ]
    },
    {
      "cell_type": "code",
      "source": [
        "df.rename(columns={'v1':'label','v2':'text'},inplace=True)"
      ],
      "metadata": {
        "id": "6k7thCbpu6kV"
      },
      "execution_count": 220,
      "outputs": []
    },
    {
      "cell_type": "code",
      "source": [
        "df.drop(['Unnamed: 2','Unnamed: 3','Unnamed: 4'],axis=1,inplace=True)"
      ],
      "metadata": {
        "id": "R9Le4QxuvBbl"
      },
      "execution_count": 221,
      "outputs": []
    },
    {
      "cell_type": "markdown",
      "source": [
        "# Label Encoding\n",
        "\n",
        "This is giving the labels spam and ham a categorical label of either 0 or 1"
      ],
      "metadata": {
        "id": "rB5JYhIxvkDr"
      }
    },
    {
      "cell_type": "code",
      "source": [
        "from sklearn.preprocessing import LabelEncoder\n",
        "le=LabelEncoder()\n",
        "label_test=le.fit_transform(df['label'])"
      ],
      "metadata": {
        "id": "rSREG5Vtv2St"
      },
      "execution_count": 222,
      "outputs": []
    },
    {
      "cell_type": "markdown",
      "source": [
        "# Implementation Of ClassWeights For Imbalanced Data\n",
        "\n",
        "**Why is SMOTE not implement in LSTM**\n",
        "\n",
        "SMOTE can corrupt sequences (since it generates fake sequences from numbers that represent word positions).\n",
        "\n",
        " it just generates interpolated numbers that don't represent real word patterns and end up learning from noise amd not real world patterns\n",
        "\n",
        "**What Class Weights Do**\n",
        "\n",
        "During training, if the model:\n",
        "\n",
        "Misclassifies a ham message, it counts as 0.6 loss whish is a normal loss\n",
        "\n",
        "Misclassifies a spam message, it counts as 2.4 loss which is penalized hence learn harder from it during backpropagation\n",
        "\n",
        "This pushes the model to focus more on learning to detect spam — the minority class.\n",
        "\n",
        "\n"
      ],
      "metadata": {
        "id": "MCORd-9hRMc7"
      }
    },
    {
      "cell_type": "code",
      "source": [
        "# Temporary computation of class weights\n",
        "from sklearn.utils import class_weight\n",
        "class_weights = class_weight.compute_class_weight(\n",
        "    class_weight='balanced',\n",
        "    classes=np.unique(df['label']),\n",
        "    y=df['label']\n",
        ")\n",
        "class_weights_dict = {i: class_weights[i] for i in range(len(class_weights))}"
      ],
      "metadata": {
        "id": "tD8LwYXpRBZQ"
      },
      "execution_count": 223,
      "outputs": []
    },
    {
      "cell_type": "code",
      "source": [
        "!pip install tensorflow\n",
        "!pip install keras"
      ],
      "metadata": {
        "colab": {
          "base_uri": "https://localhost:8080/"
        },
        "id": "Gz2y7hT1e-gg",
        "outputId": "cbecb98a-ce40-4665-8643-9fbd9ff1d50d"
      },
      "execution_count": 224,
      "outputs": [
        {
          "output_type": "stream",
          "name": "stdout",
          "text": [
            "Requirement already satisfied: tensorflow in /usr/local/lib/python3.11/dist-packages (2.18.0)\n",
            "Requirement already satisfied: absl-py>=1.0.0 in /usr/local/lib/python3.11/dist-packages (from tensorflow) (1.4.0)\n",
            "Requirement already satisfied: astunparse>=1.6.0 in /usr/local/lib/python3.11/dist-packages (from tensorflow) (1.6.3)\n",
            "Requirement already satisfied: flatbuffers>=24.3.25 in /usr/local/lib/python3.11/dist-packages (from tensorflow) (25.2.10)\n",
            "Requirement already satisfied: gast!=0.5.0,!=0.5.1,!=0.5.2,>=0.2.1 in /usr/local/lib/python3.11/dist-packages (from tensorflow) (0.6.0)\n",
            "Requirement already satisfied: google-pasta>=0.1.1 in /usr/local/lib/python3.11/dist-packages (from tensorflow) (0.2.0)\n",
            "Requirement already satisfied: libclang>=13.0.0 in /usr/local/lib/python3.11/dist-packages (from tensorflow) (18.1.1)\n",
            "Requirement already satisfied: opt-einsum>=2.3.2 in /usr/local/lib/python3.11/dist-packages (from tensorflow) (3.4.0)\n",
            "Requirement already satisfied: packaging in /usr/local/lib/python3.11/dist-packages (from tensorflow) (24.2)\n",
            "Requirement already satisfied: protobuf!=4.21.0,!=4.21.1,!=4.21.2,!=4.21.3,!=4.21.4,!=4.21.5,<6.0.0dev,>=3.20.3 in /usr/local/lib/python3.11/dist-packages (from tensorflow) (5.29.4)\n",
            "Requirement already satisfied: requests<3,>=2.21.0 in /usr/local/lib/python3.11/dist-packages (from tensorflow) (2.32.3)\n",
            "Requirement already satisfied: setuptools in /usr/local/lib/python3.11/dist-packages (from tensorflow) (75.2.0)\n",
            "Requirement already satisfied: six>=1.12.0 in /usr/local/lib/python3.11/dist-packages (from tensorflow) (1.17.0)\n",
            "Requirement already satisfied: termcolor>=1.1.0 in /usr/local/lib/python3.11/dist-packages (from tensorflow) (3.0.1)\n",
            "Requirement already satisfied: typing-extensions>=3.6.6 in /usr/local/lib/python3.11/dist-packages (from tensorflow) (4.13.2)\n",
            "Requirement already satisfied: wrapt>=1.11.0 in /usr/local/lib/python3.11/dist-packages (from tensorflow) (1.17.2)\n",
            "Requirement already satisfied: grpcio<2.0,>=1.24.3 in /usr/local/lib/python3.11/dist-packages (from tensorflow) (1.71.0)\n",
            "Requirement already satisfied: tensorboard<2.19,>=2.18 in /usr/local/lib/python3.11/dist-packages (from tensorflow) (2.18.0)\n",
            "Requirement already satisfied: keras>=3.5.0 in /usr/local/lib/python3.11/dist-packages (from tensorflow) (3.8.0)\n",
            "Requirement already satisfied: numpy<2.1.0,>=1.26.0 in /usr/local/lib/python3.11/dist-packages (from tensorflow) (2.0.2)\n",
            "Requirement already satisfied: h5py>=3.11.0 in /usr/local/lib/python3.11/dist-packages (from tensorflow) (3.13.0)\n",
            "Requirement already satisfied: ml-dtypes<0.5.0,>=0.4.0 in /usr/local/lib/python3.11/dist-packages (from tensorflow) (0.4.1)\n",
            "Requirement already satisfied: tensorflow-io-gcs-filesystem>=0.23.1 in /usr/local/lib/python3.11/dist-packages (from tensorflow) (0.37.1)\n",
            "Requirement already satisfied: wheel<1.0,>=0.23.0 in /usr/local/lib/python3.11/dist-packages (from astunparse>=1.6.0->tensorflow) (0.45.1)\n",
            "Requirement already satisfied: rich in /usr/local/lib/python3.11/dist-packages (from keras>=3.5.0->tensorflow) (13.9.4)\n",
            "Requirement already satisfied: namex in /usr/local/lib/python3.11/dist-packages (from keras>=3.5.0->tensorflow) (0.0.8)\n",
            "Requirement already satisfied: optree in /usr/local/lib/python3.11/dist-packages (from keras>=3.5.0->tensorflow) (0.15.0)\n",
            "Requirement already satisfied: charset-normalizer<4,>=2 in /usr/local/lib/python3.11/dist-packages (from requests<3,>=2.21.0->tensorflow) (3.4.1)\n",
            "Requirement already satisfied: idna<4,>=2.5 in /usr/local/lib/python3.11/dist-packages (from requests<3,>=2.21.0->tensorflow) (3.10)\n",
            "Requirement already satisfied: urllib3<3,>=1.21.1 in /usr/local/lib/python3.11/dist-packages (from requests<3,>=2.21.0->tensorflow) (2.3.0)\n",
            "Requirement already satisfied: certifi>=2017.4.17 in /usr/local/lib/python3.11/dist-packages (from requests<3,>=2.21.0->tensorflow) (2025.1.31)\n",
            "Requirement already satisfied: markdown>=2.6.8 in /usr/local/lib/python3.11/dist-packages (from tensorboard<2.19,>=2.18->tensorflow) (3.8)\n",
            "Requirement already satisfied: tensorboard-data-server<0.8.0,>=0.7.0 in /usr/local/lib/python3.11/dist-packages (from tensorboard<2.19,>=2.18->tensorflow) (0.7.2)\n",
            "Requirement already satisfied: werkzeug>=1.0.1 in /usr/local/lib/python3.11/dist-packages (from tensorboard<2.19,>=2.18->tensorflow) (3.1.3)\n",
            "Requirement already satisfied: MarkupSafe>=2.1.1 in /usr/local/lib/python3.11/dist-packages (from werkzeug>=1.0.1->tensorboard<2.19,>=2.18->tensorflow) (3.0.2)\n",
            "Requirement already satisfied: markdown-it-py>=2.2.0 in /usr/local/lib/python3.11/dist-packages (from rich->keras>=3.5.0->tensorflow) (3.0.0)\n",
            "Requirement already satisfied: pygments<3.0.0,>=2.13.0 in /usr/local/lib/python3.11/dist-packages (from rich->keras>=3.5.0->tensorflow) (2.18.0)\n",
            "Requirement already satisfied: mdurl~=0.1 in /usr/local/lib/python3.11/dist-packages (from markdown-it-py>=2.2.0->rich->keras>=3.5.0->tensorflow) (0.1.2)\n",
            "Requirement already satisfied: keras in /usr/local/lib/python3.11/dist-packages (3.8.0)\n",
            "Requirement already satisfied: absl-py in /usr/local/lib/python3.11/dist-packages (from keras) (1.4.0)\n",
            "Requirement already satisfied: numpy in /usr/local/lib/python3.11/dist-packages (from keras) (2.0.2)\n",
            "Requirement already satisfied: rich in /usr/local/lib/python3.11/dist-packages (from keras) (13.9.4)\n",
            "Requirement already satisfied: namex in /usr/local/lib/python3.11/dist-packages (from keras) (0.0.8)\n",
            "Requirement already satisfied: h5py in /usr/local/lib/python3.11/dist-packages (from keras) (3.13.0)\n",
            "Requirement already satisfied: optree in /usr/local/lib/python3.11/dist-packages (from keras) (0.15.0)\n",
            "Requirement already satisfied: ml-dtypes in /usr/local/lib/python3.11/dist-packages (from keras) (0.4.1)\n",
            "Requirement already satisfied: packaging in /usr/local/lib/python3.11/dist-packages (from keras) (24.2)\n",
            "Requirement already satisfied: typing-extensions>=4.5.0 in /usr/local/lib/python3.11/dist-packages (from optree->keras) (4.13.2)\n",
            "Requirement already satisfied: markdown-it-py>=2.2.0 in /usr/local/lib/python3.11/dist-packages (from rich->keras) (3.0.0)\n",
            "Requirement already satisfied: pygments<3.0.0,>=2.13.0 in /usr/local/lib/python3.11/dist-packages (from rich->keras) (2.18.0)\n",
            "Requirement already satisfied: mdurl~=0.1 in /usr/local/lib/python3.11/dist-packages (from markdown-it-py>=2.2.0->rich->keras) (0.1.2)\n"
          ]
        }
      ]
    },
    {
      "cell_type": "markdown",
      "source": [
        "# Implementation Of Label Encoding To Vector Format For The Neural Network"
      ],
      "metadata": {
        "id": "U_pmUG3FNE85"
      }
    },
    {
      "cell_type": "code",
      "source": [
        "import keras\n",
        "import tensorflow as tf"
      ],
      "metadata": {
        "id": "F8sb8hbvMkA8"
      },
      "execution_count": 225,
      "outputs": []
    },
    {
      "cell_type": "code",
      "source": [
        "#Label Encoding in Keras into vector format using one hot encoding\n",
        "from tensorflow.keras.utils import to_categorical\n",
        "df['label']=to_categorical(label_test)\n",
        "label_train = to_categorical(label_train, num_classes=2)"
      ],
      "metadata": {
        "id": "Uw-g9oydMLPm"
      },
      "execution_count": 226,
      "outputs": []
    },
    {
      "cell_type": "code",
      "source": [
        "df['label']"
      ],
      "metadata": {
        "colab": {
          "base_uri": "https://localhost:8080/",
          "height": 458
        },
        "id": "TW4pQ743MwV7",
        "outputId": "12505ab4-48bd-42a5-8988-57a367bdd6a9"
      },
      "execution_count": 227,
      "outputs": [
        {
          "output_type": "execute_result",
          "data": {
            "text/plain": [
              "0       1.0\n",
              "1       1.0\n",
              "2       0.0\n",
              "3       1.0\n",
              "4       1.0\n",
              "       ... \n",
              "5567    0.0\n",
              "5568    1.0\n",
              "5569    1.0\n",
              "5570    1.0\n",
              "5571    1.0\n",
              "Name: label, Length: 5572, dtype: float64"
            ],
            "text/html": [
              "<div>\n",
              "<style scoped>\n",
              "    .dataframe tbody tr th:only-of-type {\n",
              "        vertical-align: middle;\n",
              "    }\n",
              "\n",
              "    .dataframe tbody tr th {\n",
              "        vertical-align: top;\n",
              "    }\n",
              "\n",
              "    .dataframe thead th {\n",
              "        text-align: right;\n",
              "    }\n",
              "</style>\n",
              "<table border=\"1\" class=\"dataframe\">\n",
              "  <thead>\n",
              "    <tr style=\"text-align: right;\">\n",
              "      <th></th>\n",
              "      <th>label</th>\n",
              "    </tr>\n",
              "  </thead>\n",
              "  <tbody>\n",
              "    <tr>\n",
              "      <th>0</th>\n",
              "      <td>1.0</td>\n",
              "    </tr>\n",
              "    <tr>\n",
              "      <th>1</th>\n",
              "      <td>1.0</td>\n",
              "    </tr>\n",
              "    <tr>\n",
              "      <th>2</th>\n",
              "      <td>0.0</td>\n",
              "    </tr>\n",
              "    <tr>\n",
              "      <th>3</th>\n",
              "      <td>1.0</td>\n",
              "    </tr>\n",
              "    <tr>\n",
              "      <th>4</th>\n",
              "      <td>1.0</td>\n",
              "    </tr>\n",
              "    <tr>\n",
              "      <th>...</th>\n",
              "      <td>...</td>\n",
              "    </tr>\n",
              "    <tr>\n",
              "      <th>5567</th>\n",
              "      <td>0.0</td>\n",
              "    </tr>\n",
              "    <tr>\n",
              "      <th>5568</th>\n",
              "      <td>1.0</td>\n",
              "    </tr>\n",
              "    <tr>\n",
              "      <th>5569</th>\n",
              "      <td>1.0</td>\n",
              "    </tr>\n",
              "    <tr>\n",
              "      <th>5570</th>\n",
              "      <td>1.0</td>\n",
              "    </tr>\n",
              "    <tr>\n",
              "      <th>5571</th>\n",
              "      <td>1.0</td>\n",
              "    </tr>\n",
              "  </tbody>\n",
              "</table>\n",
              "<p>5572 rows × 1 columns</p>\n",
              "</div><br><label><b>dtype:</b> float64</label>"
            ]
          },
          "metadata": {},
          "execution_count": 227
        }
      ]
    },
    {
      "cell_type": "code",
      "source": [
        "import re"
      ],
      "metadata": {
        "id": "nOSk-u1owxxs"
      },
      "execution_count": 228,
      "outputs": []
    },
    {
      "cell_type": "code",
      "source": [
        "len(set(stopwords.words('english')))"
      ],
      "metadata": {
        "colab": {
          "base_uri": "https://localhost:8080/"
        },
        "id": "IHtn_S5Dw0o0",
        "outputId": "0b4ab712-1f55-4b20-f37d-8fb9717ba7fa"
      },
      "execution_count": 229,
      "outputs": [
        {
          "output_type": "execute_result",
          "data": {
            "text/plain": [
              "198"
            ]
          },
          "metadata": {},
          "execution_count": 229
        }
      ]
    },
    {
      "cell_type": "code",
      "source": [
        "df['text']"
      ],
      "metadata": {
        "colab": {
          "base_uri": "https://localhost:8080/",
          "height": 458
        },
        "id": "CHE9YbZgw7tC",
        "outputId": "2cd6bcac-58d1-4a90-fcd3-91cc79a64bec"
      },
      "execution_count": 230,
      "outputs": [
        {
          "output_type": "execute_result",
          "data": {
            "text/plain": [
              "0       Go until jurong point, crazy.. Available only ...\n",
              "1                           Ok lar... Joking wif u oni...\n",
              "2       Free entry in 2 a wkly comp to win FA Cup fina...\n",
              "3       U dun say so early hor... U c already then say...\n",
              "4       Nah I don't think he goes to usf, he lives aro...\n",
              "                              ...                        \n",
              "5567    This is the 2nd time we have tried 2 contact u...\n",
              "5568                Will Ì_ b going to esplanade fr home?\n",
              "5569    Pity, * was in mood for that. So...any other s...\n",
              "5570    The guy did some bitching but I acted like i'd...\n",
              "5571                           Rofl. Its true to its name\n",
              "Name: text, Length: 5572, dtype: object"
            ],
            "text/html": [
              "<div>\n",
              "<style scoped>\n",
              "    .dataframe tbody tr th:only-of-type {\n",
              "        vertical-align: middle;\n",
              "    }\n",
              "\n",
              "    .dataframe tbody tr th {\n",
              "        vertical-align: top;\n",
              "    }\n",
              "\n",
              "    .dataframe thead th {\n",
              "        text-align: right;\n",
              "    }\n",
              "</style>\n",
              "<table border=\"1\" class=\"dataframe\">\n",
              "  <thead>\n",
              "    <tr style=\"text-align: right;\">\n",
              "      <th></th>\n",
              "      <th>text</th>\n",
              "    </tr>\n",
              "  </thead>\n",
              "  <tbody>\n",
              "    <tr>\n",
              "      <th>0</th>\n",
              "      <td>Go until jurong point, crazy.. Available only ...</td>\n",
              "    </tr>\n",
              "    <tr>\n",
              "      <th>1</th>\n",
              "      <td>Ok lar... Joking wif u oni...</td>\n",
              "    </tr>\n",
              "    <tr>\n",
              "      <th>2</th>\n",
              "      <td>Free entry in 2 a wkly comp to win FA Cup fina...</td>\n",
              "    </tr>\n",
              "    <tr>\n",
              "      <th>3</th>\n",
              "      <td>U dun say so early hor... U c already then say...</td>\n",
              "    </tr>\n",
              "    <tr>\n",
              "      <th>4</th>\n",
              "      <td>Nah I don't think he goes to usf, he lives aro...</td>\n",
              "    </tr>\n",
              "    <tr>\n",
              "      <th>...</th>\n",
              "      <td>...</td>\n",
              "    </tr>\n",
              "    <tr>\n",
              "      <th>5567</th>\n",
              "      <td>This is the 2nd time we have tried 2 contact u...</td>\n",
              "    </tr>\n",
              "    <tr>\n",
              "      <th>5568</th>\n",
              "      <td>Will Ì_ b going to esplanade fr home?</td>\n",
              "    </tr>\n",
              "    <tr>\n",
              "      <th>5569</th>\n",
              "      <td>Pity, * was in mood for that. So...any other s...</td>\n",
              "    </tr>\n",
              "    <tr>\n",
              "      <th>5570</th>\n",
              "      <td>The guy did some bitching but I acted like i'd...</td>\n",
              "    </tr>\n",
              "    <tr>\n",
              "      <th>5571</th>\n",
              "      <td>Rofl. Its true to its name</td>\n",
              "    </tr>\n",
              "  </tbody>\n",
              "</table>\n",
              "<p>5572 rows × 1 columns</p>\n",
              "</div><br><label><b>dtype:</b> object</label>"
            ]
          },
          "metadata": {},
          "execution_count": 230
        }
      ]
    },
    {
      "cell_type": "code",
      "source": [
        "lemma=WordNetLemmatizer()\n"
      ],
      "metadata": {
        "id": "oFv0FNTixQqD"
      },
      "execution_count": 231,
      "outputs": []
    },
    {
      "cell_type": "code",
      "source": [
        "nltk.download(\"punkt_tab\")"
      ],
      "metadata": {
        "colab": {
          "base_uri": "https://localhost:8080/"
        },
        "id": "kaMYy3r7yX0U",
        "outputId": "564c71f2-e744-4608-e039-f4fd9ddbd513"
      },
      "execution_count": 232,
      "outputs": [
        {
          "output_type": "stream",
          "name": "stderr",
          "text": [
            "[nltk_data] Downloading package punkt_tab to /root/nltk_data...\n",
            "[nltk_data]   Package punkt_tab is already up-to-date!\n"
          ]
        },
        {
          "output_type": "execute_result",
          "data": {
            "text/plain": [
              "True"
            ]
          },
          "metadata": {},
          "execution_count": 232
        }
      ]
    },
    {
      "cell_type": "code",
      "source": [
        "cleaned_text=[]\n",
        "for text in df['text']:\n",
        "  senti=re.sub('[^A-Za-z]',' ',text)\n",
        "  senti=senti.lower()\n",
        "  words=word_tokenize(senti)\n",
        "  word=[lemma.lemmatize(i) for i in words if i not in stopwords.words('english')]\n",
        "  senti=' '.join(word)\n",
        "  cleaned_text.append(senti)\n"
      ],
      "metadata": {
        "id": "EALg75PXxyfJ"
      },
      "execution_count": 233,
      "outputs": []
    },
    {
      "cell_type": "code",
      "source": [
        "cleaned_text"
      ],
      "metadata": {
        "colab": {
          "base_uri": "https://localhost:8080/"
        },
        "id": "TslB21SwzIr1",
        "outputId": "d6718a39-f65c-42e7-ffac-b7f81fd36910"
      },
      "execution_count": 234,
      "outputs": [
        {
          "output_type": "execute_result",
          "data": {
            "text/plain": [
              "['go jurong point crazy available bugis n great world la e buffet cine got amore wat',\n",
              " 'ok lar joking wif u oni',\n",
              " 'free entry wkly comp win fa cup final tkts st may text fa receive entry question std txt rate c apply',\n",
              " 'u dun say early hor u c already say',\n",
              " 'nah think go usf life around though',\n",
              " 'freemsg hey darling week word back like fun still tb ok xxx std chgs send rcv',\n",
              " 'even brother like speak treat like aid patent',\n",
              " 'per request melle melle oru minnaminunginte nurungu vettam set callertune caller press copy friend callertune',\n",
              " 'winner valued network customer selected receivea prize reward claim call claim code kl valid hour',\n",
              " 'mobile month u r entitled update latest colour mobile camera free call mobile update co free',\n",
              " 'gon na home soon want talk stuff anymore tonight k cried enough today',\n",
              " 'six chance win cash pound txt csh send cost p day day tsandcs apply reply hl info',\n",
              " 'urgent week free membership prize jackpot txt word claim c www dbuk net lccltd pobox ldnw rw',\n",
              " 'searching right word thank breather promise wont take help granted fulfil promise wonderful blessing time',\n",
              " 'date sunday',\n",
              " 'xxxmobilemovieclub use credit click wap link next txt message click http wap xxxmobilemovieclub com n qjkgighjjgcbl',\n",
              " 'oh k watching',\n",
              " 'eh u remember spell name yes v naughty make v wet',\n",
              " 'fine way u feel way gota b',\n",
              " 'england v macedonia dont miss goal team news txt ur national team eg england try wale scotland txt poboxox w wq',\n",
              " 'seriously spell name',\n",
              " 'going try month ha ha joking',\n",
              " 'pay first lar da stock comin',\n",
              " 'aft finish lunch go str lor ard smth lor u finish ur lunch already',\n",
              " 'ffffffffff alright way meet sooner',\n",
              " 'forced eat slice really hungry tho suck mark getting worried know sick turn pizza lol',\n",
              " 'lol always convincing',\n",
              " 'catch bus frying egg make tea eating mom left dinner feel love',\n",
              " 'back amp packing car let know room',\n",
              " 'ahhh work vaguely remember feel like lol',\n",
              " 'wait still clear sure sarcastic x want live u',\n",
              " 'yeah got v apologetic n fallen actin like spoilt child got caught till go badly cheer',\n",
              " 'k tell anything',\n",
              " 'fear fainting housework quick cuppa',\n",
              " 'thanks subscription ringtone uk mobile charged month please confirm replying yes reply charged',\n",
              " 'yup ok go home look timing msg xuhui going learn nd may lesson',\n",
              " 'oops let know roommate done',\n",
              " 'see letter b car',\n",
              " 'anything lor u decide',\n",
              " 'hello saturday go texting see decided anything tomo trying invite anything',\n",
              " 'pls go ahead watt wanted sure great weekend abiola',\n",
              " 'forget tell want need crave love sweet arabian steed mmmmmm yummy',\n",
              " 'rodger burn msg tried call reply sm free nokia mobile free camcorder please call delivery tomorrow',\n",
              " 'seeing',\n",
              " 'great hope like man well endowed lt gt inch',\n",
              " 'call message missed call',\n",
              " 'get hep b immunisation nigeria',\n",
              " 'fair enough anything going',\n",
              " 'yeah hopefully tyler could maybe ask around bit',\n",
              " 'u know stubborn even want go hospital kept telling mark weak sucker hospital weak sucker',\n",
              " 'thinked first time saw class',\n",
              " 'gram usually run like lt gt half eighth smarter though get almost whole second gram lt gt',\n",
              " 'k fyi x ride early tomorrow morning crashing place tonight',\n",
              " 'wow never realized embarassed accomodations thought liked since best could always seemed happy cave sorry give sorry offered sorry room embarassing',\n",
              " 'sm ac sptv new jersey devil detroit red wing play ice hockey correct incorrect end reply end sptv',\n",
              " 'know mallika sherawat yesterday find lt url gt',\n",
              " 'congrats year special cinema pas call c suprman v matrix starwars etc free bx ip pm dont miss',\n",
              " 'sorry call later meeting',\n",
              " 'tell reached',\n",
              " 'yes gauti sehwag odi series',\n",
              " 'gon na pick burger way home even move pain killing',\n",
              " 'ha ha ha good joke girl situation seeker',\n",
              " 'part checking iq',\n",
              " 'sorry roommate took forever ok come',\n",
              " 'ok lar double check wif da hair dresser already said wun cut v short said cut look nice',\n",
              " 'valued customer pleased advise following recent review mob awarded bonus prize call',\n",
              " 'today song dedicated day song u dedicate send ur valuable frnds first rply',\n",
              " 'urgent ur awarded complimentary trip eurodisinc trav aco entry claim txt dis morefrmmob shracomorsglsuplt l aj',\n",
              " 'hear new divorce barbie come ken stuff',\n",
              " 'plane give month end',\n",
              " 'wah lucky man save money hee',\n",
              " 'finished class',\n",
              " 'hi babe im home wan na something xx',\n",
              " 'k k performed',\n",
              " 'u call',\n",
              " 'waiting machan call free',\n",
              " 'thats cool gentleman treat dignity respect',\n",
              " 'like people much shy pa',\n",
              " 'operate lt gt',\n",
              " 'still looking job much ta earn',\n",
              " 'sorry call later',\n",
              " 'k call ah',\n",
              " 'ok way home hi hi',\n",
              " 'place man',\n",
              " 'yup next stop',\n",
              " 'call later network urgnt sm',\n",
              " 'real u getting yo need ticket one jacket done already used multis',\n",
              " 'yes started send request make pain came back back bed double coin factory got ta cash nitros',\n",
              " 'really still tonight babe',\n",
              " 'ela kano il download come wen ur free',\n",
              " 'yeah stand close tho catch something',\n",
              " 'sorry pain ok meet another night spent late afternoon casualty mean done stuff moro includes time sheet sorry',\n",
              " 'smile pleasure smile pain smile trouble pours like rain smile sum hurt u smile becoz someone still love see u smiling',\n",
              " 'please call customer service representative pm guaranteed cash prize',\n",
              " 'havent planning buy later check already lido got show e afternoon u finish work already',\n",
              " 'free ringtone waiting collected simply text password mix verify get usher britney fml',\n",
              " 'watching telugu movie wat abt u',\n",
              " 'see finish load loan pay',\n",
              " 'hi wk ok hols yes bit run forgot hairdresser appointment four need get home n shower beforehand cause prob u ham',\n",
              " 'please text anymore nothing else say',\n",
              " 'okay name ur price long legal wen pick u ave x am xx',\n",
              " 'still looking car buy gone driving test yet',\n",
              " 'per request melle melle oru minnaminunginte nurungu vettam set callertune caller press copy friend callertune',\n",
              " 'wow right mean guess gave boston men changed search location nyc something changed cuz signin page still say boston',\n",
              " 'umma life vava umma love lot dear',\n",
              " 'thanks lot wish birthday thanks making birthday truly memorable',\n",
              " 'aight hit get cash',\n",
              " 'would ip address test considering computer minecraft server',\n",
              " 'know grumpy old people mom like better lying always one play joke',\n",
              " 'dont worry guess busy',\n",
              " 'plural noun research',\n",
              " 'going dinner msg',\n",
              " 'ok wif co like try new thing scared u dun like mah co u said loud',\n",
              " 'gent trying contact last weekend draw show prize guaranteed call claim code k valid hr ppm',\n",
              " 'wa ur openin sentence formal anyway fine juz tt eatin much n puttin weight haha anythin special happened',\n",
              " 'entered cabin pa said happy b day bos felt special askd lunch lunch invited apartment went',\n",
              " 'winner u specially selected receive holiday flight inc speak live operator claim p min',\n",
              " 'goodo yes must speak friday egg potato ratio tortilla needed',\n",
              " 'hmm uncle informed paying school directly pls buy food',\n",
              " 'private account statement show unredeemed bonus point claim call identifier code expires',\n",
              " 'urgent mobile awarded bonus caller prize final try contact u call landline box wr c ppm',\n",
              " 'new address apple pair malarky',\n",
              " 'today voda number ending selected receive award match please call quoting claim code standard rate app',\n",
              " 'going sao mu today done',\n",
              " 'predict wat time finish buying',\n",
              " 'good stuff',\n",
              " 'know yetunde sent money yet sent text bother sending dont involve anything imposed anything first place apologise',\n",
              " 'room',\n",
              " 'hey girl r u hope u r well del r bak long time c give call sum time lucyxx',\n",
              " 'k k much cost',\n",
              " 'home',\n",
              " 'dear call tmorrow pls accomodate',\n",
              " 'first answer question',\n",
              " 'sunshine quiz wkly q win top sony dvd player u know country algarve txt ansr sp tyrone',\n",
              " 'want get laid tonight want real dogging location sent direct ur mob join uk largest dogging network bt txting gravel nt ec p msg p',\n",
              " 'haf msn yijue hotmail com',\n",
              " 'call meet',\n",
              " 'check room befor activity',\n",
              " 'rcv msg chat svc free hardcore service text go u get nothing u must age verify yr network try',\n",
              " 'got c lazy type forgot lect saw pouch like v nice',\n",
              " 'k text way',\n",
              " 'sir waiting mail',\n",
              " 'swt thought nver get tired little thing lovable person coz somtimes little thing occupy biggest part heart gud ni',\n",
              " 'know pls open back',\n",
              " 'yes see ya dot',\n",
              " 'whats staff name taking class u',\n",
              " 'freemsg replied text randy sexy female live local luv hear u netcollex ltd p per msg reply stop end',\n",
              " 'ummma call check life begin qatar pls pray hard',\n",
              " 'k deleted contact',\n",
              " 'sindu got job birla soft',\n",
              " 'wine flowing nevering',\n",
              " 'yup thk cine better co need go plaza mah',\n",
              " 'ok ur typical reply',\n",
              " 'per request melle melle oru minnaminunginte nurungu vettam set callertune caller press copy friend callertune',\n",
              " 'everywhere dirt floor window even shirt sometimes open mouth come flowing dream world without half chore time joy lot tv show see guess like thing must exist like rain hail mist time done become one',\n",
              " 'aaooooright work',\n",
              " 'leaving house',\n",
              " 'hello love get interview today happy good boy think missing',\n",
              " 'customer service annoncement new year delivery waiting please call arrange delivery',\n",
              " 'winner u specially selected receive cash holiday flight inc speak live operator claim',\n",
              " 'keep safe need miss already envy everyone see real life',\n",
              " 'new car house parent new job hand',\n",
              " 'love excited day spend make happy',\n",
              " 'pls stop bootydelious f inviting friend reply yes see www sm ac u bootydelious stop send stop frnd',\n",
              " 'bangbabes ur order way u receive service msg download ur content u goto wap bangb tv ur mobile internet service menu',\n",
              " 'place ur point e culture module already',\n",
              " 'urgent trying contact last weekend draw show prize guaranteed call claim code valid hr',\n",
              " 'hi frnd best way avoid missunderstding wit beloved one',\n",
              " 'great escape fancy bridge need lager see tomo',\n",
              " 'yes completely form clark also utter waste',\n",
              " 'sir need axis bank account bank address',\n",
              " 'hmmm thk sure got time hop ard ya go free abt muz call u discus liao',\n",
              " 'time coming later',\n",
              " 'bloody hell cant believe forgot surname mr ill give u clue spanish begin',\n",
              " 'well gon na finish bath good fine night',\n",
              " 'let know got money carlos make call',\n",
              " 'u still going mall',\n",
              " 'turn friend staying whole show back til lt gt feel free go ahead smoke lt gt worth',\n",
              " 'text doesnt reply let know log',\n",
              " 'hi spoke maneesha v like know satisfied experience reply toll free yes',\n",
              " 'lifted hope offer money need especially end month approach hurt studying anyways gr weekend',\n",
              " 'lol u trust',\n",
              " 'ok gentleman treat dignity respect',\n",
              " 'guy close',\n",
              " 'going nothing great bye',\n",
              " 'hello handsome finding job lazy working towards getting back net mummy boytoy miss',\n",
              " 'haha awesome minute',\n",
              " 'please call customer service representative freephone pm guaranteed cash prize',\n",
              " 'got xmas radio time get',\n",
              " 'jus reached home go bathe first si using net tell u finish k',\n",
              " 'unique enough find th august www areyouunique co uk',\n",
              " 'sorry joined league people dont keep touch mean great deal friend time even great personal cost great week',\n",
              " 'hi finally completed course',\n",
              " 'stop however suggest stay someone able give or every stool',\n",
              " 'hope settled new school year wishin gr day',\n",
              " 'gud mrng dear hav nice day',\n",
              " 'u got person story',\n",
              " 'hamster dead hey tmr meet pm orchard mrt',\n",
              " 'hi kate evening hope see tomorrow bit bloody babyjontet txt back u xxx',\n",
              " 'found enc lt gt',\n",
              " 'sent lt gt buck',\n",
              " 'hello darlin ive finished college txt u finish u love kate xxx',\n",
              " 'account refilled successfully inr lt decimal gt keralacircle prepaid account balance r lt decimal gt transaction id kr lt gt',\n",
              " 'goodmorning sleeping ga',\n",
              " 'u call alter ok',\n",
              " 'say like dat dun buy ericsson oso oredi lar',\n",
              " 'entered cabin pa said happy b day bos felt special askd lunch lunch invited apartment went',\n",
              " 'aight yo dat straight dogg',\n",
              " 'please give u connection today lt decimal gt refund bill',\n",
              " 'shoot big load get ready',\n",
              " 'bruv hope great break rewarding semester',\n",
              " 'home always chat',\n",
              " 'k k good study well',\n",
              " 'yup noe leh',\n",
              " 'sound great home',\n",
              " 'finally match heading towards draw prediction',\n",
              " 'tired slept well past night',\n",
              " 'easy ah sen got selected mean good',\n",
              " 'take exam march',\n",
              " 'yeah think use gt atm register sure anyway help let know sure ready',\n",
              " 'ok prob take ur time',\n",
              " 'o called ubandu run without installing hard disk use o copy important file system give repair shop',\n",
              " 'sorry call later',\n",
              " 'u say leh course nothing happen lar say v romantic jus bit lor thk e nite scenery nice leh',\n",
              " 'new mobile must go txt nokia collect today www tc biz optout gbp mtmsg',\n",
              " 'would really appreciate call need someone talk',\n",
              " 'u meet ur dream partner soon ur career flyng start find free txt horo followed ur star sign e g horo aries',\n",
              " 'hey company elama po mudyadhu',\n",
              " 'life strict teacher bcoz teacher teach lesson amp conduct exam life first conduct exam amp teach lesson happy morning',\n",
              " 'dear good morning',\n",
              " 'get gandhipuram walk cross cut road right side lt gt street road turn first right',\n",
              " 'dear going rubber place',\n",
              " 'sorry battery died yeah',\n",
              " 'yes tv always available work place',\n",
              " 'text meet someone sexy today u find date even flirt u join p reply name age eg sam msg recd thirtyeight penny',\n",
              " 'printed oh lt gt come upstairs',\n",
              " 'ill little closer like bus stop street',\n",
              " 'wil reach',\n",
              " 'new theory argument win situation loses person dont argue ur friend kick amp say always correct',\n",
              " 'u secret admirer looking make contact u find r reveal think ur special call',\n",
              " 'tomarrow final hearing laptop case cant',\n",
              " 'pleassssssseeeeee tel v avent done sportsx',\n",
              " 'okay shining meant signing sound better',\n",
              " 'although told u dat baig face watch really like e watch u gave co fr u thanx everything dat u done today touched',\n",
              " 'u remember old commercial',\n",
              " 'late said website dont slipper',\n",
              " 'asked call ok',\n",
              " 'kallis wont bat nd inning',\n",
              " 'didnt work oh ok goodnight fix ready time wake dearly missed good night sleep',\n",
              " 'congratulation ur awarded cd voucher gift guaranteed free entry wkly draw txt music tncs www ldew com win ppmx age',\n",
              " 'ranjith cal drpd deeraj deepak min hold',\n",
              " 'wen ur lovable bcums angry wid u dnt take seriously coz angry childish n true way showing deep affection care n luv kettoda manda nice day da',\n",
              " '',\n",
              " 'ups day also shipping company take wks way usps take week get lag may bribe nipost get stuff',\n",
              " 'back lem know ready',\n",
              " 'necessarily expect done get back though headin',\n",
              " 'mmm yummy babe nice jolt suzy',\n",
              " 'lover need',\n",
              " 'tried contact reply offer video handset anytime network min unlimited text camcorder reply call',\n",
              " 'parked next mini coming today think',\n",
              " 'yup',\n",
              " 'anyway going shopping co si done yet dun disturb u liao',\n",
              " 'luton ring ur around h',\n",
              " 'hey really horny want chat see naked text hot text charged pm unsubscribe text stop',\n",
              " 'dint come u',\n",
              " 'wana plan trip sometme',\n",
              " 'sure yet still trying get hold',\n",
              " 'ur ringtone service changed free credit go club mobile com choose content stop txt club stop p wk club po box mk wt',\n",
              " 'evo download flash jealous',\n",
              " 'ringtone club get uk single chart mobile week choose top quality ringtone message free charge',\n",
              " 'come mu sorting narcotic situation',\n",
              " 'night ended another day morning come special way may smile like sunny ray leaf worry blue blue bay',\n",
              " 'hmv bonus special pound genuine hmv voucher answer easy question play send hmv info www percent real com',\n",
              " 'usf guess might well take car',\n",
              " 'objection bf coming',\n",
              " 'thanx',\n",
              " 'tell rob mack gf theater',\n",
              " 'awesome see bit',\n",
              " 'sent type food like',\n",
              " 'done handed celebration full swing yet',\n",
              " 'got called tool',\n",
              " 'wen u miss someone',\n",
              " 'ok asked money far',\n",
              " 'okie',\n",
              " 'yeah think usual guy still passed last night get ahold anybody let know throw',\n",
              " 'k might come tonight class let early',\n",
              " 'ok',\n",
              " 'hi baby im cruisin girl friend r u give call hour home thats alright fone fone love jenny xxx',\n",
              " 'life mean lot love life love people life world call friend call world ge',\n",
              " 'dear shall mail tonite busy street shall update tonite thing looking ok varunnathu edukkukayee raksha ollu good one real sense',\n",
              " 'hey told name gautham ah',\n",
              " 'haf u found feel stupid da v cam working',\n",
              " 'oops got bit',\n",
              " 'much buzy',\n",
              " 'accidentally deleted message resend please',\n",
              " 'mobile customer may claim free camera phone upgrade pay go sim card loyalty call offer end thfeb c apply',\n",
              " 'unless situation go gurl would appropriate',\n",
              " 'hurt tease make cry end life die plz keep one rose grave say stupid miss u nice day bslvyl',\n",
              " 'cant pick phone right pls send message',\n",
              " 'need coffee run tomo believe time week already',\n",
              " 'awesome remember last time got somebody high first time diesel v',\n",
              " 'shit really shocking scary cant imagine second def night u think somewhere could crash night save taxi',\n",
              " 'oh way food fridge want go meal tonight',\n",
              " 'womdarfull actor',\n",
              " 'sm ac blind date u rodds aberdeen united kingdom check http img sm ac w icmb cktz r blind date send hide',\n",
              " 'yup remb think book',\n",
              " 'jos ask u wana meet',\n",
              " 'lol yes friendship hanging thread cause u buy stuff',\n",
              " 'themob check newest selection content game tone gossip babe sport keep mobile fit funky text wap',\n",
              " 'garage key bookshelf',\n",
              " 'today accept day u accept brother sister lover dear best clos lvblefrnd jstfrnd cutefrnd lifpartnr belovd swtheart bstfrnd rply mean enemy',\n",
              " 'think ur smart win week weekly quiz text play c winnersclub po box uz gbp week',\n",
              " 'say give call friend got money definitely buying end week',\n",
              " 'hi way u day normal way real ur unique hope know u rest mylife hope u find wot lost',\n",
              " 'made day great day',\n",
              " 'k k advance happy pongal',\n",
              " 'hmmm guess go kb n power yoga haha dunno tahan power yoga anot thk got lo oso forgot liao',\n",
              " 'really dude friend afraid',\n",
              " 'december mobile mths entitled update latest colour camera mobile free call mobile update co free',\n",
              " 'coffee cake guess',\n",
              " 'merry christmas babe love ya kiss',\n",
              " 'hey dont go watch x men lunch haha',\n",
              " 'cud u tell ppl im gona b bit l co bus hav gon past co full im still waitin pete x',\n",
              " 'would great guild could meet bristol road somewhere get touch weekend plan take flight good week',\n",
              " 'problem',\n",
              " 'call message missed call',\n",
              " 'hi da today class',\n",
              " 'say good sign well know track record reading woman',\n",
              " 'cool text parked',\n",
              " 'reading text sent meant joke read light',\n",
              " 'k k apo k good movie',\n",
              " 'maybe could get book tomo return immediately something',\n",
              " 'call germany penny per minute call fixed line via access number prepayment direct access',\n",
              " 'chance might evaporated soon violated privacy stealing phone number employer paperwork cool please contact report supervisor',\n",
              " 'valentine day special win quiz take partner trip lifetime send go p msg rcvd custcare',\n",
              " 'ta daaaaa home babe still',\n",
              " 'cool come havent wined dined',\n",
              " 'sleeping surfing',\n",
              " 'sorry call later',\n",
              " 'u calling right call hand phone',\n",
              " 'ok great thanx lot',\n",
              " 'take post come must text happy reading one wiv hello caroline end favourite bless',\n",
              " 'u hiding stranger',\n",
              " 'interested like',\n",
              " 'sister cleared two round birla soft yesterday',\n",
              " 'gudnite tc practice going',\n",
              " 'dis yijue jus saw ur mail case huiming havent sent u num dis num',\n",
              " 'one small prestige problem',\n",
              " 'fancy shag interested sextextuk com txt xxuk suzy txts cost per msg tncs website x',\n",
              " 'checking really miss seeing jeremiah great month',\n",
              " 'nah help never iphone',\n",
              " 'car hour half going apeshit',\n",
              " 'today sorry day ever angry ever misbehaved hurt plz plz slap urself bcoz ur fault basically good',\n",
              " 'yo guy ever figure much need alcohol jay trying figure much safely spend weed',\n",
              " 'lt gt ish minute minute ago wtf',\n",
              " 'thank calling forgot say happy onam sirji fine remembered met insurance person meet qatar insha allah rakhesh ex tata aig joined tissco tayseer',\n",
              " 'congratulation ur awarded cd voucher gift guaranteed free entry wkly draw txt music tncs www ldew com win ppmx age',\n",
              " 'ur cash balance currently pound maximize ur cash send cash p msg cc hg suite land row w j hl',\n",
              " 'actor work work evening sleep late since unemployed moment always sleep late unemployed every day saturday',\n",
              " 'hello got st andrew boy long way cold keep posted',\n",
              " 'ha ha cool cool chikku chikku db',\n",
              " 'oh ok prob',\n",
              " 'check audrey status right',\n",
              " 'busy trying finish new year looking forward finally meeting',\n",
              " 'good afternoon sunshine dawn day refreshed happy alive breathe air smile think love always',\n",
              " 'well know z take care worry',\n",
              " 'update xmas offer latest motorola sonyericsson nokia free bluetooth double min txt orange call mobileupd call optout f q',\n",
              " 'discount code rp stop message reply stop www regalportfolio co uk customer service',\n",
              " 'wat uniform get',\n",
              " 'cool text ready',\n",
              " 'hello boytoy geeee miss already woke wish bed cuddling love',\n",
              " 'spoil bed well',\n",
              " 'going bath msg next lt gt min',\n",
              " 'cant keep talking people sure pay agree price pls tell want really buy much willing pay',\n",
              " 'thanks ringtone order reference charged gbp per week unsubscribe anytime calling customer service',\n",
              " 'say happen',\n",
              " 'could seen recognise face',\n",
              " 'well lot thing happening lindsay new year sigh bar ptbo blue heron something going',\n",
              " 'keep payasam rinu brings',\n",
              " 'taught ranjith sir called sm like becaus he verifying project prabu told today pa dont mistake',\n",
              " 'guess worried must know way body repair quite sure worry take slow first test guide ovulation relax nothing said reason worry keep followin',\n",
              " 'yeah sure give couple minute track wallet',\n",
              " 'hey leave big deal take care',\n",
              " 'hey late ah meet',\n",
              " 'double min txts month free bluetooth orange available sony nokia motorola phone call mobileupd call optout n dx',\n",
              " 'took mr owl lick',\n",
              " 'customer place call',\n",
              " 'mm time dont like fun',\n",
              " 'mths half price orange line rental latest camera phone free phone mths call mobilesdirect free update stoptxt',\n",
              " 'yup lunch buffet u eat already',\n",
              " 'huh late fr dinner',\n",
              " 'hey sat going intro pilate kickboxing',\n",
              " 'morning ok',\n",
              " 'yes think office lap room think thats last day didnt shut',\n",
              " 'pick bout ish time going',\n",
              " 'performance award calculated every two month current one month period',\n",
              " 'actually sleeping still might u call back text gr rock si send u text wen wake',\n",
              " 'always putting business put picture as facebook one open people ever met would think picture room would hurt make feel violated',\n",
              " 'good evening sir al salam wahleykkum sharing happy news grace god got offer tayseer tissco joined hope fine inshah allah meet sometime rakhesh visitor india',\n",
              " 'hmmm k want change field quickly da wan na get system administrator network administrator',\n",
              " 'free ringtone text first poly text get true tone help st free tone x pw e nd txt stop',\n",
              " 'dear chechi talk',\n",
              " 'hair cream shipped',\n",
              " 'none happening til get though',\n",
              " 'yep great loxahatchee xmas tree burning lt gt start hour',\n",
              " 'haha get used driving usf man know lot stoner',\n",
              " 'well slightly disastrous class pm fav darling hope day ok coffee wld good stay late tomorrow time place always',\n",
              " 'hello good week fancy drink something later',\n",
              " 'headin towards busetop',\n",
              " 'message text missing sender name missing number missing sent date missing missing u lot thats everything missing sent via fullonsms com',\n",
              " 'come room point iron plan weekend',\n",
              " 'co want thing',\n",
              " 'okies go yan jiu skip ard oso go cine den go mrt one blah blah blah',\n",
              " 'bring home wendy',\n",
              " 'dating service cal l box sk ch',\n",
              " 'whatsup dont u want sleep',\n",
              " 'alright new goal',\n",
              " 'free entry weekly competition text word win c www txttowin co uk',\n",
              " 'alright head minute text meet',\n",
              " 'send logo ur lover name joined heart txt love name name mobno eg love adam eve yahoo pobox w wq txtno ad p',\n",
              " 'yes last week taking live call',\n",
              " 'someone contacted dating service entered phone fancy find call landline pobox n tf p',\n",
              " 'siva hostel aha',\n",
              " 'urgent mobile number awarded prize guaranteed call land line claim valid hr',\n",
              " 'send ur friend receive something ur voice speaking expression childish naughty sentiment rowdy ful attitude romantic shy attractive funny lt gt irritating lt gt lovable reply',\n",
              " 'ok ok guess',\n",
              " 'aathi dear',\n",
              " 'pain urination thing else',\n",
              " 'esplanade mind giving lift co got car today',\n",
              " 'wnt buy bmw car urgently vry urgent hv shortage lt gt lac source arng dis amt lt gt lac thats prob',\n",
              " 'home watching tv lor',\n",
              " 'usually take fifteen fucking minute respond yes question',\n",
              " 'congrats nokia video camera phone call call cost ppm ave call min vary mobile close post bcm ldn wc n xx',\n",
              " 'booked ticket pongal',\n",
              " 'available like right around hillsborough amp lt gt th',\n",
              " 'message sent askin lt gt dollar shoul pay lt gt lt gt',\n",
              " 'ask g iouri told story like ten time already',\n",
              " 'long applebees fucking take',\n",
              " 'hi hope u get txt journey hasnt gd min late think',\n",
              " 'like love arrange',\n",
              " 'yes really great bhaji told kallis best cricketer sachin world tough get',\n",
              " 'supposed wake gt',\n",
              " 'oic saw tot din c found group liao',\n",
              " 'sorry call later',\n",
              " 'hey hey werethe monkeespeople say monkeyaround howdy gorgeous',\n",
              " 'sorry battery died come getting gram place',\n",
              " 'well done blimey exercise yeah kinda remember wot hmm',\n",
              " 'wont get concentration dear know mind everything',\n",
              " 'lol made plan new year',\n",
              " 'min later k',\n",
              " 'hank lotsly',\n",
              " 'thanks hope good day today',\n",
              " 'k k detail want transfer acc enough',\n",
              " 'ok tell stay yeah tough optimistic thing improve month',\n",
              " 'loan purpose homeowner tenant welcome previously refused still help call free text back help',\n",
              " 'si si think ill go make oreo truffle',\n",
              " 'look amy ure beautiful intelligent woman like u lot know u like like worry',\n",
              " 'hope result consistently intelligent kind start asking practicum link keep ear open best ttyl',\n",
              " 'call cost guess isnt bad miss ya need ya want ya love ya',\n",
              " 'going thru different feeling wavering decision coping individual time heal everything believe',\n",
              " 'u go phone gon na die stay',\n",
              " 'great never better day give even reason thank god',\n",
              " 'upgrdcentre orange customer may claim free camera phone upgrade loyalty call offer end th july c apply opt available',\n",
              " 'sorry call later ok bye',\n",
              " 'ok way railway',\n",
              " 'great princess love giving receiving oral doggy style fave position enjoy making love lt gt time per night',\n",
              " 'put stuff road keep getting slippery',\n",
              " 'going ride bike',\n",
              " 'yup need jus wait e rain stop',\n",
              " 'many company tell language',\n",
              " 'okmail dear dave final notice collect tenerife holiday cash award call landline tc sae box cw wx ppm',\n",
              " 'long since screamed princess',\n",
              " 'nothing meant money enters account bank remove flat rate someone transfered lt gt account lt gt dollar got removed bank differ charge also differ sure trust ja person sending account detail co',\n",
              " 'want get laid tonight want real dogging location sent direct ur mob join uk largest dogging network txting moan nyt ec p msg p',\n",
              " 'nice line said broken heart plz cum time infront wise trust u good',\n",
              " 'ok gon na head usf like fifteen minute',\n",
              " 'love aathi love u lot',\n",
              " 'tension ah machi problem',\n",
              " 'k pick another th done',\n",
              " 'guy getting back g said thinking staying mcr',\n",
              " 'almost see u sec',\n",
              " 'yo carlos friend already asking working weekend',\n",
              " 'watching tv lor',\n",
              " 'thank baby cant wait taste real thing',\n",
              " 'change fb jaykwon thuglyfe falconerf',\n",
              " 'win really side long time',\n",
              " 'free message activate free text message replying message word free term condition visit www com',\n",
              " 'dear reached railway happen',\n",
              " 'depends quality want type sent boye faded glory want ralphs maybe',\n",
              " 'think fixed send test message',\n",
              " 'sorry man account dry would want could trade back half could buy shit credit card',\n",
              " 'congrats year special cinema pas call c suprman v matrix starwars etc free bx ip pm dont miss',\n",
              " 'sorry meeting call later',\n",
              " 'class lt gt reunion',\n",
              " 'free call',\n",
              " 'got meh',\n",
              " 'nope think go monday sorry replied late',\n",
              " 'told accenture confirm true',\n",
              " 'kate jackson rec center ish right',\n",
              " 'dear reache room',\n",
              " 'fighting world easy u either win lose bt fightng close u dificult u lose u lose u win u still lose',\n",
              " 'come',\n",
              " 'check nuerologist',\n",
              " 'lolnice went fish water',\n",
              " 'congratulation week competition draw u prize claim call b c stop sm ppm',\n",
              " 'waiting e car dat bored wat co wait outside got nothing home stuff watch tv wat',\n",
              " 'maybe westshore hyde park village place near house',\n",
              " 'know anthony bringing money school fee pay rent stuff like thats need help friend need',\n",
              " 'significance',\n",
              " 'opinion jada kusruthi lovable silent spl character matured stylish simple pls reply',\n",
              " 'latest g still scrounge ammo want give new ak try',\n",
              " 'prabha soryda realy frm heart sory',\n",
              " 'lol ok forgiven',\n",
              " 'jst change tat',\n",
              " 'guaranteed latest nokia phone gb ipod mp player prize txt word collect ibhltd ldnw h p mtmsgrcvd',\n",
              " 'competition',\n",
              " 'boltblue tone p reply poly mono eg poly cha cha slide yeah slow jamz toxic come stop tone txt',\n",
              " 'credit topped http www bubbletext com renewal pin tgxxrz',\n",
              " 'way transport less problematic sat night way u want ask n join bday feel free need know definite no booking fri',\n",
              " 'usually person unconscious child adult may behave abnormally call',\n",
              " 'ebay might less elsewhere',\n",
              " 'shall come get pickle',\n",
              " 'gon na go get taco',\n",
              " 'rude campus',\n",
              " 'urgent mobile awarded bonus caller prize nd attempt contact call box qu',\n",
              " 'hi b ard christmas enjoy n merry x ma',\n",
              " 'today offer claim ur worth discount voucher text yes savamob member offer mobile c sub unsub reply x',\n",
              " 'yes pretty lady like single',\n",
              " 'recieve tone within next hr term condition please see channel u teletext pg',\n",
              " 'jay say double faggot',\n",
              " 'private account statement show un redeemed point call identifier code expires',\n",
              " 'today sunday sunday holiday work',\n",
              " 'gudnite tc practice going',\n",
              " 'late',\n",
              " 'called hoping l r malaria know miss guy miss ban big pls give love especially great day',\n",
              " 'good afternoon love go day hope maybe got lead job think boytoy send passionate kiss across sea',\n",
              " 'probably gon na see later tonight lt',\n",
              " 'maybe fat finger press button know',\n",
              " 'ummmmmaah many many happy return day dear sweet heart happy birthday dear',\n",
              " 'tirupur da started office call',\n",
              " 'www applausestore com monthlysubscription p msg max month csc web age stop txt stop',\n",
              " 'famous quote develop ability listen anything unconditionally without losing temper self confidence mean married',\n",
              " 'going college pa else ill come self pa',\n",
              " 'oclock mine bash flat plan',\n",
              " 'girl stay bed girl need recovery time id rather pas fun cooped bed',\n",
              " 'special',\n",
              " 'know need get hotel got invitation apologise cali sweet come english bloke weddin',\n",
              " 'sorry took long omw',\n",
              " 'wait lt gt min',\n",
              " 'ok give minute think see btw alibi cutting hair whole time',\n",
              " 'imagine finally get sink bath put pace maybe even eat left also imagine feel cage cock surrounded bath water reminding always owns enjoy cuck',\n",
              " 'hurry weed deficient like three day',\n",
              " 'sure get acknowledgement astoundingly tactless generally faggy demand blood oath fo',\n",
              " 'ok every night take warm bath drink cup milk see work magic still need loose weight know',\n",
              " 'look frying pan case cheap book perhaps silly frying pan likely book',\n",
              " 'well uv cause mutation sunscreen like essential thesedays',\n",
              " 'lunch online',\n",
              " 'know friend already told',\n",
              " 'hi princess thank pic pretty',\n",
              " 'aiyo u always c ex one dunno abt mei reply first time u reply fast lucky workin huh got bao ur sugardad ah gee',\n",
              " 'hi msg office',\n",
              " 'thanx e brownie v nice',\n",
              " 'geeeee love much barely stand',\n",
              " 'gent trying contact last weekend draw show prize guaranteed call claim code k valid hr ppm',\n",
              " 'fuck babe miss already know let send money towards net need want crave',\n",
              " 'ill call u mrw ninish address icky american freek wont stop callin bad jen k eh',\n",
              " 'oooh bed ridden ey thinking',\n",
              " 'anyways go gym whatever love smile hope ok good day babe miss much already',\n",
              " 'love daddy make scream pleasure going slap as dick',\n",
              " 'wot u wan na missy',\n",
              " 'yar lor wait mum finish sch lunch lor whole morning stay home clean room room quite clean hee',\n",
              " 'know lab goggles went',\n",
              " 'open door',\n",
              " 'waiting call',\n",
              " 'nope waiting sch daddy',\n",
              " 'cash prize claim call',\n",
              " 'tired arguing week week want',\n",
              " 'wait sch finish ard',\n",
              " 'mobile number claim call u back ring claim hot line',\n",
              " 'arngd marriage u r walkin unfortuntly snake bite u bt love marriage dancing frnt snake amp sayin bite bite',\n",
              " 'huh early dinner outside izzit',\n",
              " 'ok anyway need change said',\n",
              " 'tried contact reply offer min textand new video phone call reply free delivery tomorrow',\n",
              " 'ex wife able kid want kid one day',\n",
              " 'scotland hope showing jjc tendency take care live dream',\n",
              " 'tell u headache want use hour sick time',\n",
              " 'dun thk quit yet hmmm go jazz yogasana oso go meet em lesson den',\n",
              " 'pete please ring meive hardly gotany credit',\n",
              " 'ya srsly better yi tho',\n",
              " 'meeting call later',\n",
              " 'ur chance win wkly shopping spree txt shop c www txt shop com custcare x p wk',\n",
              " 'specially selected receive pound award call line close cost ppm c apply ag promo',\n",
              " 'private account statement show un redeemed point call identifier code expires',\n",
              " 'still grand prix',\n",
              " 'met stranger choose friend long world stand friendship never end let friend forever gud nitz',\n",
              " 'great',\n",
              " 'gud mrng dear nice day',\n",
              " 'important customer service announcement call freephone',\n",
              " 'exhausted train morning much wine pie sleep well',\n",
              " 'going buy mum present ar',\n",
              " 'mind blastin tsunami occur rajnikant stopped swimming indian ocean',\n",
              " 'u sending home first ok lor ready yet',\n",
              " 'speaking cash yet',\n",
              " 'happy come noon',\n",
              " 'meet lunch la',\n",
              " 'take care n get well soon',\n",
              " 'xclusive clubsaisai morow soiree speciale zouk nichols paris free rose lady info',\n",
              " 'meant say cant wait see u getting bored bridgwater banter',\n",
              " 'neva mind ok',\n",
              " 'fine imma get drink somethin want come find',\n",
              " 'day kick euro u kept date latest news result daily removed send get txt stop',\n",
              " 'valentine game send dis msg ur friend answer r someone really love u ques colour suit best rply',\n",
              " 'many dependent',\n",
              " 'thanx today cer nice catch ave find time often oh well take care c u soon c',\n",
              " 'called said choose future',\n",
              " 'happy valentine day know early hundred handsomes beauty wish thought finish aunty uncle st',\n",
              " 'like v shock leh co telling shuhui like telling leona also like dat almost know liao got ask abt ur reaction lor',\n",
              " 'family happiness',\n",
              " 'come n pick come immediately aft ur lesson',\n",
              " 'let snow let snow kind weather brings ppl together friendship grow',\n",
              " 'dear got lt gt dollar hi hi',\n",
              " 'good word word may leave u dismay many time',\n",
              " 'make sure alex know birthday fifteen minute far concerned',\n",
              " 'sorry got thing may pub later',\n",
              " 'nah straight bring bud drink something actually little useful straight cash',\n",
              " 'haha good hear officially paid market th',\n",
              " 'many lick take get center tootsie pop',\n",
              " 'yup thk r e teacher said make face look longer darren ask cut short',\n",
              " 'new textbuddy chat horny guy ur area p free receive search postcode gaytextbuddy com txt one name',\n",
              " 'today vodafone number ending selected receive award number match call receive award',\n",
              " 'please dont say like hi hi hi',\n",
              " 'thank u',\n",
              " 'oh forwarded message thought send',\n",
              " 'got seventeen pound seven hundred ml hope ok',\n",
              " 'dear voucher holder claim week offer pc go http www e tlp co uk expressoffer t c apply stop text txt stop',\n",
              " 'n funny',\n",
              " 'sweetheart hope kind day one load reason smile biola',\n",
              " 'login dat time dad fetching home',\n",
              " 'shower baby',\n",
              " 'askd u question hour answer',\n",
              " 'well imma definitely need restock thanksgiving let know',\n",
              " 'said kiss kiss sound effect gorgeous man kind person need smile brighten day',\n",
              " 'probably gon na swing wee bit',\n",
              " 'ya nice ready thursday',\n",
              " 'allo braved bus taken train triumphed mean b ham jolly good rest week',\n",
              " 'watching cartoon listening music amp eve go temple amp church u',\n",
              " 'mind ask happened dont say uncomfortable',\n",
              " 'private account statement show un redeemed point call identifier code expires',\n",
              " 'prob send email',\n",
              " 'cash prize claim call c rstm sw s ppm',\n",
              " 'thats cool sometimes slow gentle sonetimes rough hard',\n",
              " 'gon na say sorry would normal starting panic time sorry seeing tuesday',\n",
              " 'wait know wesley town bet hella drug',\n",
              " 'fine miss much',\n",
              " 'u got person story',\n",
              " 'tell drug dealer getting impatient',\n",
              " 'sun cant come earth send luv ray cloud cant come river send luv rain cant come meet u send care msg u gud evng',\n",
              " 'place man',\n",
              " 'doesnt make sense take unless free need know wikipedia com',\n",
              " 'premium phone service call',\n",
              " 'sea lay rock rock envelope envelope paper paper word',\n",
              " 'mum repent',\n",
              " 'sorry going home first daddy come fetch later',\n",
              " 'leave de start prepare next',\n",
              " 'yes baby study position kama sutra',\n",
              " 'en chikku nange bakra msg kalstiya tea coffee',\n",
              " 'carlos minute still need buy',\n",
              " 'pay lt decimal gt lakh',\n",
              " 'good evening ttyl',\n",
              " 'u receive msg',\n",
              " 'ho ho big belly laugh see ya tomo',\n",
              " 'sm ac sun post hello seem cool',\n",
              " 'get ur st ringtone free reply msg tone gr top tone phone every week per wk opt send stop',\n",
              " 'ditto worry saying anything anymore like said last night whatever want peace',\n",
              " 'got lt gt way could pick',\n",
              " 'dont knw pa drink milk',\n",
              " 'maybe say hi find got card great escape wetherspoons',\n",
              " 'piggy r u awake bet u still sleeping going lunch',\n",
              " 'cause freaky lol',\n",
              " 'missed call cause yelling scrappy miss u wait u come home lonely today',\n",
              " 'hex place talk explain',\n",
              " 'log wat sdryb',\n",
              " 'xy going e lunch',\n",
              " 'hi sue year old work lapdancer love sex text live bedroom text sue textoperator g da ppmsg',\n",
              " 'wanted ask wait finish lect co lect finish hour anyway',\n",
              " 'finished work yet',\n",
              " 'every king cry baby every great building map imprtant u r today u wil reach tomorw gud ni',\n",
              " 'dear cherthala case u r coming cochin pls call bfore u start shall also reach accordingly tell day u r coming tmorow engaged an holiday',\n",
              " 'thanks love torch bold',\n",
              " 'forwarded please call immediately urgent message waiting',\n",
              " 'farm open',\n",
              " 'sorry trouble u buy dad big small sat n sun thanx',\n",
              " 'sister law hope great month saying hey abiola',\n",
              " 'purchase stuff today mail po box number',\n",
              " 'ah poop look like ill prob send laptop get fixed cuz gpu problem',\n",
              " 'good good job like entrepreneur',\n",
              " 'aight close still around alex place',\n",
              " 'meet corporation st outside gap see mind working',\n",
              " 'mum ask buy food home',\n",
              " 'k u also dont msg reply msg',\n",
              " 'much r willing pay',\n",
              " 'sorry call later',\n",
              " 'important prevent dehydration giving enough fluid',\n",
              " 'thats bit weird even supposed happening good idea sure pub',\n",
              " 'true dear sat pray evening felt sm time',\n",
              " 'think get away trek long family town sorry',\n",
              " 'wan na gym harri',\n",
              " 'quite late lar ard anyway wun b drivin',\n",
              " 'review keep fantastic nokia n gage game deck club nokia go www cnupdates com newsletter unsubscribe alert reply word',\n",
              " 'mths half price orange line rental latest camera phone free phone mths call mobilesdirect free update stoptxt c',\n",
              " 'height confidence aeronautics professor wer calld amp wer askd sit aeroplane aftr sat wer told dat plane w made student dey hurried plane bt didnt move said made student',\n",
              " 'seems like weird timing night g want come smoke day shitstorm attributed always coming making everyone smoke',\n",
              " 'pm cost p',\n",
              " 'save stress person dorm account send account detail money sent',\n",
              " 'also know lunch menu da know',\n",
              " 'stuff sell tell',\n",
              " 'urgent nd attempt contact u u call b csbcm wc n xx callcost ppm mobilesvary max',\n",
              " 'book lesson msg call work sth going get spec membership px',\n",
              " 'guaranteed cash prize claim yr prize call customer service representative pm',\n",
              " 'macha dont feel upset assume mindset believe one evening wonderful plan u let life begin call anytime',\n",
              " 'oh send address',\n",
              " 'fine anytime best',\n",
              " 'wondar full flim',\n",
              " 'ya even cooky jelly',\n",
              " 'world running still maybe feeling admit mad correction let call life keep running world may u r also running let run',\n",
              " 'got look scrumptious daddy want eat night long',\n",
              " 'co lar ba dao ok pm lor u never ask go ah said u would ask fri said u ask today',\n",
              " 'alright omw got ta change order half th',\n",
              " 'exactly anyways far jide study visiting',\n",
              " 'dunno u ask',\n",
              " 'email alertfrom jeri stewartsize kbsubject low cost prescripiton drvgsto listen email call',\n",
              " 'spring coming early yay',\n",
              " 'lol feel bad use money take steak dinner',\n",
              " 'even u dont get trouble convincing tel twice tel neglect msg dont c read dont reply',\n",
              " 'leaving qatar tonite search opportunity went fast pls add ur prayer dear rakhesh',\n",
              " 'one talking',\n",
              " 'thanks looking really appreciate',\n",
              " 'hi customer loyalty offer new nokia mobile txtauction txt word start get ctxt tc p mtmsg',\n",
              " 'wish',\n",
              " 'haha mayb u rite u know well da feeling liked someone gd lor u faster go find one gal group attached liao',\n",
              " 'yes glad made',\n",
              " 'well little time thing good time ahead',\n",
              " 'got room soon put clock back til shouted everyone get realised wahay another hour bed',\n",
              " 'ok may free gym',\n",
              " 'men like shorter lady gaze eye',\n",
              " 'dunno jus say go lido time',\n",
              " 'promise take good care princess run please send pic get chance ttyl',\n",
              " 'u subscribed best mobile content service uk per day send stop helpline',\n",
              " 'reason spoken year anyways great week best exam',\n",
              " 'monday next week give full gist',\n",
              " 'realize year thousand old lady running around tattoo',\n",
              " 'important customer service announcement premier',\n",
              " 'dont gim lip caveboy',\n",
              " 'get library',\n",
              " 'realy sorry recognise number confused r u please',\n",
              " 'didnt holla',\n",
              " 'cant think anyone spare room top head',\n",
              " 'faith make thing possible hope make thing work love make thing beautiful may three christmas merry christmas',\n",
              " 'u made appointment',\n",
              " 'call carlos phone vibrate acting might hear text',\n",
              " 'romantic paris night flight book next year call t c apply',\n",
              " 'grandma oh dear u still ill felt shit morning think hungover another night leave sat',\n",
              " 'urgent ur guaranteed award still unclaimed call closingdate claimcode pmmorefrommobile bremoved mobypobox l yf',\n",
              " 'nothing jus tot u would ask co u ba gua went mt faber yest yest jus went already mah today going jus call lor',\n",
              " 'wishing family merry x ma happy new year advance',\n",
              " 'ur awarded city break could win summer shopping spree every wk txt store skilgme tscs winawk age perwksub',\n",
              " 'nt goin got somethin unless meetin dinner lor haha wonder go ti time',\n",
              " 'sorry call later',\n",
              " 'cant pick phone right pls send message',\n",
              " 'lol know dramatic school already closed tomorrow apparently drive inch snow supposed get',\n",
              " 'getting anywhere damn job hunting',\n",
              " 'lol u drunkard hair moment yeah still tonight wats plan',\n",
              " 'idc get weaseling way shit twice row',\n",
              " 'wil lt gt minute got space',\n",
              " 'sleeping surfing',\n",
              " 'thanks picking trash',\n",
              " 'go tell friend sure want live smoke much spend hour begging come smoke',\n",
              " 'hi kate lovely see tonight ill phone tomorrow got sing guy gave card xxx',\n",
              " 'happy new year dear brother really miss got number decided send text wishing happiness abiola',\n",
              " 'mean get door',\n",
              " 'opinion jada kusruthi lovable silent spl character matured stylish simple pls reply',\n",
              " 'hmmm thought said hour slave late punish',\n",
              " 'beerage',\n",
              " 'important customer service announcement premier call freephone',\n",
              " 'dont think turn like randomlly within min opening',\n",
              " 'supposed make still town though',\n",
              " 'time fix spelling sometimes get completely diff word go figure',\n",
              " 'ever thought living good life perfect partner txt back name age join mobile community p sm',\n",
              " 'free top polyphonic tone call national rate get toppoly tune sent every week text subpoly per pole unsub',\n",
              " 'gud mrng dear hav nice day',\n",
              " 'hoping enjoyed game yesterday sorry touch pls know fondly bein thot great week abiola',\n",
              " 'e best ur driving tmr',\n",
              " 'u dogbreath sounding like jan c al',\n",
              " 'omg want scream weighed lost weight woohoo',\n",
              " 'generally one uncountable noun u dictionary piece research',\n",
              " 'really getting hanging around',\n",
              " 'orange customer may claim free camera phone upgrade loyalty call offer end thmarch c apply opt availa',\n",
              " 'petey boy whereare friendsare thekingshead come canlove nic',\n",
              " 'ok msg u b leave house',\n",
              " 'gim lt gt minute ago',\n",
              " 'last chance claim ur worth discount voucher today text shop savamob offer mobile c savamob pobox uz sub',\n",
              " 'appt lt time gt fault u listen told u twice',\n",
              " 'free st week nokia tone ur mobile every week txt nokia get txting tell ur mate www getzed co uk pobox w wq norm p tone',\n",
              " 'guaranteed award even cashto claim ur award call free stop getstop php rg jx',\n",
              " 'k',\n",
              " 'dled imp',\n",
              " 'sure make sure know smokin yet',\n",
              " 'boooo always work quit',\n",
              " 'taking half day leave bec well',\n",
              " 'ugh wan na get bed warm',\n",
              " 'nervous lt gt',\n",
              " 'ring come guy costume gift future yowifes hint hint',\n",
              " 'congratulation ur awarded either cd gift voucher free entry weekly draw txt music tncs www ldew com win ppmx age',\n",
              " 'borrow ur bag ok',\n",
              " 'u outbid simonwatson shinco dvd plyr bid visit sm ac smsrewards end bid notification reply end',\n",
              " 'boytoy miss happened',\n",
              " 'lot used one babe model help youi bring match',\n",
              " 'also bringing galileo dobby',\n",
              " 'responding',\n",
              " 'boo babe u enjoyin yourjob u seemed b gettin well hunny hope ure ok take care llspeak u soonlots loveme xxxx',\n",
              " 'good afternoon starshine boytoy crave yet ache fuck sip cappuccino miss babe teasing kiss',\n",
              " 'road cant txt',\n",
              " 'smsservices yourinclusive text credit pls goto www comuk net login qxj unsubscribe stop extra charge help comuk cm ae',\n",
              " 'p alfie moon child need song ur mob tell ur txt tone charity nokias poly charity polys zed profit charity',\n",
              " 'good evening ttyl',\n",
              " 'hmm bit piece lol sigh',\n",
              " 'hahaha use brain dear',\n",
              " 'hey got mail',\n",
              " 'sorry light turned green meant another friend wanted lt gt worth may around',\n",
              " 'thanks yesterday sir wonderful hope enjoyed burial mojibiola',\n",
              " 'u secret admirer reveal think u r special call opt reply reveal stop per msg recd cust care',\n",
              " 'hi mate rv u hav nice hol message say hello coz sent u age started driving stay road rvx',\n",
              " 'dear voucher holder claim week offer pc please go http www e tlp co uk expressoffer t c apply stop text txt stop',\n",
              " 'thank much skyped wit kz sura didnt get pleasure company hope good given ultimatum oh countin aburo enjoy message sent day ago',\n",
              " 'surely result offer',\n",
              " 'good morning dear great amp successful day',\n",
              " 'want anytime network min text new video phone five pound per week call reply delivery tomorrow',\n",
              " 'sir late paying rent past month pay lt gt charge felt would inconsiderate nag something give great cost didnt speak however recession wont able pay charge month hence askin well ahead month end please help thanks',\n",
              " 'tried contact offer new video phone anytime network min half price rental camcorder call reply delivery wed',\n",
              " 'last chance claim ur worth discount voucher text yes savamob member offer mobile c sub remove txt x stop',\n",
              " 'luv u soo much u understand special u r ring u morrow luv u xxx',\n",
              " 'pls send comprehensive mail paying much',\n",
              " 'prashanthettan mother passed away last night pray family',\n",
              " 'urgent call landline complimentary ibiza holiday cash await collection sae c po box sk wp ppm',\n",
              " 'k k going',\n",
              " 'meanwhile shit suite xavier decided give u lt gt second warning samantha coming playing jay guitar impress shit also think doug realizes live anymore',\n",
              " 'stomach thru much trauma swear eat better lose weight',\n",
              " 'office whats matter msg call break',\n",
              " 'yeah barely enough room two u x many fucking shoe sorry man see later',\n",
              " 'today offer claim ur worth discount voucher text yes savamob member offer mobile c sub unsub reply x',\n",
              " 'u reach orchard already u wan go buy ticket first',\n",
              " 'real baby want bring inner tigress',\n",
              " 'da run activate full version da',\n",
              " 'ah poor baby hope urfeeling bettersn luv probthat overdose work hey go careful spk u sn lot lovejen xxx',\n",
              " 'stop story told returned saying order',\n",
              " 'talk sexy make new friend fall love world discreet text dating service text vip see could meet',\n",
              " 'going take babe',\n",
              " 'hai ana tomarrow coming morning lt decimal gt ill sathy go rto office reply came home',\n",
              " 'spoon okay',\n",
              " 'say somebody named tampa',\n",
              " 'work going min',\n",
              " 'brother genius',\n",
              " 'sorry guess whenever get hold connection maybe hour two text',\n",
              " 'u find time bus coz need sort stuff',\n",
              " 'dude ive seeing lotta corvette lately',\n",
              " 'congratulation ur awarded either yr supply cd virgin record mystery gift guaranteed call t c www smsco net pm approx min',\n",
              " 'consider wall bunker shit important never play peaceful guess place high enough matter',\n",
              " 'private account statement xxxxxx show un redeemed point call identifier code expires',\n",
              " 'hello need posh bird chap user trial prod champneys put need address dob asap ta r',\n",
              " 'u want xmas free text message new video phone half price line rental call free find',\n",
              " 'well officially philosophical hole u wan na call home ready saved',\n",
              " 'going good problem still need little experience understand american customer voice',\n",
              " 'text drop x',\n",
              " 'ugh long day exhausted want cuddle take nap',\n",
              " 'talk atleast day otherwise miss best friend world shakespeare shesil lt gt',\n",
              " 'shop till u drop either k k cash travel voucher call ntt po box cr bt fixedline cost ppm mobile vary',\n",
              " 'castor need see something',\n",
              " 'sunshine quiz wkly q win top sony dvd player u know country liverpool played mid week txt ansr sp tyrone',\n",
              " 'u secret admirer looking make contact u find r reveal think ur special call',\n",
              " 'u secret admirer looking make contact u find r reveal think ur special call stopsms',\n",
              " 'reminder downloaded content already paid goto http doit mymoby tv collect content',\n",
              " 'see knew giving break time woul lead always wanting miss curfew gon na gibe til one midnight movie gon na get til need come home need getsleep anything need b studdying ear training',\n",
              " 'love give massage use lot baby oil fave position',\n",
              " 'dude go sup',\n",
              " 'yoyyooo u know change permission drive mac usb flash drive',\n",
              " 'gibbs unsold mike hussey',\n",
              " 'like talk pa able dont know',\n",
              " 'dun cut short leh u dun like ah failed quite sad',\n",
              " 'unbelievable faglord',\n",
              " 'wife knew time murder exactly',\n",
              " 'ask princess',\n",
              " 'great princess thinking',\n",
              " 'nutter cutter ctter cttergg cttargg ctargg ctagg ie',\n",
              " 'ok noe u busy really bored msg u oso dunno wat colour choose one',\n",
              " 'g class early tomorrow thus trying smoke lt gt',\n",
              " 'superb thought grateful u dont everything u want mean u still opportunity happier tomorrow u today',\n",
              " 'hope good week checking',\n",
              " 'used hope agent drop since booked thing year whole boston nyc experiment',\n",
              " 'thursday night yeah sure thing work',\n",
              " 'free ringtone waiting collected simply text password mix verify get usher britney fml',\n",
              " 'probably money worry thing coming due several outstanding invoice work two three month ago',\n",
              " 'possible teach',\n",
              " 'wonder phone battery went dead tell love babe',\n",
              " 'lovely smell bus tobacco',\n",
              " 'getting worried derek taylor already assumed worst',\n",
              " 'hey charles sorry late reply',\n",
              " 'lastest stereophonics marley dizzee racal libertine stroke win nookii game flirt click themob wap bookmark text wap',\n",
              " 'give plus said grinule greet whenever speak',\n",
              " 'white fudge oreo store',\n",
              " 'january male sale hot gay chat cheaper call national rate p min cheap p min peak stop text call p min',\n",
              " 'love come took long leave zaher got word ym happy see sad left miss',\n",
              " 'sorry hurt',\n",
              " 'feel nauseous pissed eat sweet week cause today planning pig dieting week hungry',\n",
              " 'ok lor early still project meeting',\n",
              " 'call da waiting call',\n",
              " 'could ask carlos could get anybody else chip',\n",
              " 'actually send reminder today wonderful weekend',\n",
              " 'people see msg think iam addicted msging wrong bcoz know iam addicted sweet friend bslvyl',\n",
              " 'hey gave photo registered driving ah tmr wan na meet yck',\n",
              " 'dont talk ever ok word',\n",
              " 'u wana see',\n",
              " 'way school pls send ashley number',\n",
              " 'shall fine avalarr hollalater',\n",
              " 'went attend another two round today still reach home',\n",
              " 'actually deleted old website blogging magicalsongs blogspot com',\n",
              " 'k wait chikku il send aftr lt gt min',\n",
              " 'diet ate many slice pizza yesterday ugh always diet',\n",
              " 'k give kvb acc detail',\n",
              " 'oh come ah',\n",
              " 'money r lucky winner claim prize text money million give away ppt x normal text rate box w jy',\n",
              " 'really sorry b able friday hope u find alternative hope yr term going ok',\n",
              " 'congratulation ore mo owo wa enjoy wish many happy moment fro wherever go',\n",
              " 'samus shoulder yet',\n",
              " 'time think need know near campus',\n",
              " 'dear matthew please call landline complimentary lux tenerife holiday cash await collection ppm sae c box sk xh',\n",
              " 'dun wear jean lor',\n",
              " 'since side fever vomitin',\n",
              " 'k k college',\n",
              " 'urgent call landline complimentary tenerife holiday cash await collection sae c box hp yf ppm',\n",
              " 'better made friday stuffed like pig yesterday feel bleh least writhing pain kind bleh',\n",
              " 'sell ton coin sell coin someone thru paypal voila money back life pocket',\n",
              " 'theyre lot place hospital medical place safe',\n",
              " 'getting touch folk waiting company txt back name age opt enjoy community p sm',\n",
              " 'also sorta blown couple time recently id rather text blue looking weed',\n",
              " 'sent score sophas secondary application school think thinking applying research cost also contact joke ogunrinde school one less expensive one',\n",
              " 'cant wait see photo useful',\n",
              " 'ur cash balance currently pound maximize ur cash send go p msg cc po box tcr w',\n",
              " 'hey booked kb sat already lesson going ah keep sat night free need meet confirm lodging',\n",
              " 'chk ur belovd m dict',\n",
              " 'time want come',\n",
              " 'awesome lem know whenever around',\n",
              " 'shb b ok lor thanx',\n",
              " 'beautiful truth gravity read carefully heart feel light someone feel heavy someone leaf good night',\n",
              " 'also remember get dobby bowl car',\n",
              " 'filthy story girl waiting',\n",
              " 'sorry c ur msg yar lor poor thing one night tmr u brand new room sleep',\n",
              " 'love decision feeling could decide love life would much simpler less magical',\n",
              " 'welp apparently retired',\n",
              " 'sort code acc bank natwest reply confirm sent right person',\n",
              " '',\n",
              " 'u sure u take sick time',\n",
              " 'urgent trying contact u today draw show prize guaranteed call land line claim valid hr',\n",
              " 'watching cartoon listening music amp eve go temple amp church u',\n",
              " 'yo chad gymnastics class wan na take site say christian class full',\n",
              " 'much buzy',\n",
              " 'better still catch let ask sell lt gt',\n",
              " 'sure night menu know noon menu',\n",
              " 'u want come back beautiful necklace token heart thats give wife liking see one give dont call wait till come',\n",
              " 'willing go aptitude class',\n",
              " 'wont b trying sort house ok',\n",
              " 'yar lor wan go c horse racing today mah eat earlier lor ate chicken rice u',\n",
              " 'haha awesome omw back',\n",
              " 'yup thk e shop close lor',\n",
              " 'account number',\n",
              " 'eh u send wrongly lar',\n",
              " 'hey ad crap nite borin without ya boggy u boring biatch thanx u wait til nxt time il ave ya',\n",
              " 'ok shall talk',\n",
              " 'dont hesitate know second time weakness like keep notebook eat day anything changed day sure nothing',\n",
              " 'hey pay salary de lt gt',\n",
              " 'another month need chocolate weed alcohol',\n",
              " 'started searching get job day great potential talent',\n",
              " 'reckon need town eightish walk carpark',\n",
              " 'congrats mobile g videophones r call videochat wid mate play java game dload polyph music noline rentl',\n",
              " 'look fuckin time fuck think',\n",
              " 'yo guess dropped',\n",
              " 'carlos say mu lt gt minute',\n",
              " 'office call lt gt min',\n",
              " 'geeee miss already know think fuck wait till next year together loving kiss',\n",
              " 'yun ah ubi one say wan call tomorrow call look irene ere got bus ubi cres ubi tech park ph st wkg day n',\n",
              " 'ugh got ta drive back sd la butt sore',\n",
              " 'th july',\n",
              " 'hi im relaxing time ever get every day party good night get home tomorrow ish',\n",
              " 'wan come come lor din c stripe skirt',\n",
              " 'xmas story peace xmas msg love xmas miracle jesus hav blessed month ahead amp wish u merry xmas',\n",
              " 'number',\n",
              " 'change e one next escalator',\n",
              " 'yetunde class run water make ok pls',\n",
              " 'lot happened feel quiet beth aunt charlie working lot helen mo',\n",
              " 'wait bus stop aft ur lect lar dun c go get car come back n pick',\n",
              " 'aight thanks comin',\n",
              " ...]"
            ]
          },
          "metadata": {},
          "execution_count": 234
        }
      ]
    },
    {
      "cell_type": "markdown",
      "source": [
        "# Text Encoding To Vector Format For Neural Network"
      ],
      "metadata": {
        "id": "kJE0XHQ40uaX"
      }
    },
    {
      "cell_type": "code",
      "source": [
        "from tensorflow.keras.preprocessing.text import one_hot\n",
        "from tensorflow.keras.preprocessing.sequence import pad_sequences\n",
        "from tensorflow.keras.utils import to_categorical\n",
        "from tensorflow.keras.models import Sequential\n",
        "from tensorflow.keras.layers import Embedding, LSTM, Dense, Dropout\n"
      ],
      "metadata": {
        "id": "CRaFCucZOFK8"
      },
      "execution_count": 235,
      "outputs": []
    },
    {
      "cell_type": "code",
      "source": [
        "one_hot_encoding_for_cleaned_text=[one_hot(i,10000) for i in cleaned_text]"
      ],
      "metadata": {
        "id": "nRgcbCtXOeNu"
      },
      "execution_count": 236,
      "outputs": []
    },
    {
      "cell_type": "code",
      "source": [
        "maxi=[len(i) for i in one_hot_encoding_for_cleaned_text]"
      ],
      "metadata": {
        "id": "Ffw3_zZgOoL6"
      },
      "execution_count": 237,
      "outputs": []
    },
    {
      "cell_type": "code",
      "source": [
        "max(maxi)"
      ],
      "metadata": {
        "colab": {
          "base_uri": "https://localhost:8080/"
        },
        "id": "4KfuYBxROwtR",
        "outputId": "c532aef6-e94b-44b3-adf7-7541da124bb8"
      },
      "execution_count": 238,
      "outputs": [
        {
          "output_type": "execute_result",
          "data": {
            "text/plain": [
              "77"
            ]
          },
          "metadata": {},
          "execution_count": 238
        }
      ]
    },
    {
      "cell_type": "markdown",
      "source": [
        "# Padding\n",
        "This is used to ensure same length of text is fed into yhe neural network\n",
        "\n",
        "if a sentence is longer than the padding prameter it is truncated and if shorter it is padded with 0s"
      ],
      "metadata": {
        "id": "cyhB2407YJG3"
      }
    },
    {
      "cell_type": "code",
      "source": [
        "from tensorflow.keras.preprocessing.sequence import pad_sequences"
      ],
      "metadata": {
        "id": "ppFSJZygYhIk"
      },
      "execution_count": 239,
      "outputs": []
    },
    {
      "cell_type": "code",
      "source": [
        "padsequences=pad_sequences(one_hot_encoding_for_cleaned_text,maxlen=80)"
      ],
      "metadata": {
        "id": "_sZZgX_dYtuh"
      },
      "execution_count": 240,
      "outputs": []
    },
    {
      "cell_type": "code",
      "source": [
        "feature_train,feature_test,label_train,label_test=train_test_split(padsequences,df['label'],test_size=0.2,random_state=7)"
      ],
      "metadata": {
        "id": "m7bbE_0tZCs_"
      },
      "execution_count": 241,
      "outputs": []
    },
    {
      "cell_type": "markdown",
      "source": [
        "# Building Of The Neural Network"
      ],
      "metadata": {
        "id": "AbYKMRHaZU1I"
      }
    },
    {
      "cell_type": "code",
      "source": [
        "model=Sequential()\n",
        "model.add(Embedding(10000,64,input_length=80))\n",
        "model.add(LSTM(100))\n",
        "model.add(Dense(1,activation='sigmoid'))\n",
        "model.compile(loss='binary_crossentropy',metrics=['accuracy'],optimizer='adam')"
      ],
      "metadata": {
        "colab": {
          "base_uri": "https://localhost:8080/"
        },
        "id": "z_tndrEgZou_",
        "outputId": "04681616-a152-40dd-8aa8-cd1c8cb8b41f"
      },
      "execution_count": 242,
      "outputs": [
        {
          "output_type": "stream",
          "name": "stderr",
          "text": [
            "/usr/local/lib/python3.11/dist-packages/keras/src/layers/core/embedding.py:90: UserWarning: Argument `input_length` is deprecated. Just remove it.\n",
            "  warnings.warn(\n"
          ]
        }
      ]
    },
    {
      "cell_type": "code",
      "source": [
        "model.summary()"
      ],
      "metadata": {
        "colab": {
          "base_uri": "https://localhost:8080/",
          "height": 238
        },
        "id": "XGLZPMpmZusL",
        "outputId": "6c82bb12-5d6b-4dc3-b8cf-5fe5888fda0e"
      },
      "execution_count": 243,
      "outputs": [
        {
          "output_type": "display_data",
          "data": {
            "text/plain": [
              "\u001b[1mModel: \"sequential_7\"\u001b[0m\n"
            ],
            "text/html": [
              "<pre style=\"white-space:pre;overflow-x:auto;line-height:normal;font-family:Menlo,'DejaVu Sans Mono',consolas,'Courier New',monospace\"><span style=\"font-weight: bold\">Model: \"sequential_7\"</span>\n",
              "</pre>\n"
            ]
          },
          "metadata": {}
        },
        {
          "output_type": "display_data",
          "data": {
            "text/plain": [
              "┏━━━━━━━━━━━━━━━━━━━━━━━━━━━━━━━━━┳━━━━━━━━━━━━━━━━━━━━━━━━┳━━━━━━━━━━━━━━━┓\n",
              "┃\u001b[1m \u001b[0m\u001b[1mLayer (type)                   \u001b[0m\u001b[1m \u001b[0m┃\u001b[1m \u001b[0m\u001b[1mOutput Shape          \u001b[0m\u001b[1m \u001b[0m┃\u001b[1m \u001b[0m\u001b[1m      Param #\u001b[0m\u001b[1m \u001b[0m┃\n",
              "┡━━━━━━━━━━━━━━━━━━━━━━━━━━━━━━━━━╇━━━━━━━━━━━━━━━━━━━━━━━━╇━━━━━━━━━━━━━━━┩\n",
              "│ embedding_7 (\u001b[38;5;33mEmbedding\u001b[0m)         │ ?                      │   \u001b[38;5;34m0\u001b[0m (unbuilt) │\n",
              "├─────────────────────────────────┼────────────────────────┼───────────────┤\n",
              "│ lstm_7 (\u001b[38;5;33mLSTM\u001b[0m)                   │ ?                      │   \u001b[38;5;34m0\u001b[0m (unbuilt) │\n",
              "├─────────────────────────────────┼────────────────────────┼───────────────┤\n",
              "│ dense_7 (\u001b[38;5;33mDense\u001b[0m)                 │ ?                      │   \u001b[38;5;34m0\u001b[0m (unbuilt) │\n",
              "└─────────────────────────────────┴────────────────────────┴───────────────┘\n"
            ],
            "text/html": [
              "<pre style=\"white-space:pre;overflow-x:auto;line-height:normal;font-family:Menlo,'DejaVu Sans Mono',consolas,'Courier New',monospace\">┏━━━━━━━━━━━━━━━━━━━━━━━━━━━━━━━━━┳━━━━━━━━━━━━━━━━━━━━━━━━┳━━━━━━━━━━━━━━━┓\n",
              "┃<span style=\"font-weight: bold\"> Layer (type)                    </span>┃<span style=\"font-weight: bold\"> Output Shape           </span>┃<span style=\"font-weight: bold\">       Param # </span>┃\n",
              "┡━━━━━━━━━━━━━━━━━━━━━━━━━━━━━━━━━╇━━━━━━━━━━━━━━━━━━━━━━━━╇━━━━━━━━━━━━━━━┩\n",
              "│ embedding_7 (<span style=\"color: #0087ff; text-decoration-color: #0087ff\">Embedding</span>)         │ ?                      │   <span style=\"color: #00af00; text-decoration-color: #00af00\">0</span> (unbuilt) │\n",
              "├─────────────────────────────────┼────────────────────────┼───────────────┤\n",
              "│ lstm_7 (<span style=\"color: #0087ff; text-decoration-color: #0087ff\">LSTM</span>)                   │ ?                      │   <span style=\"color: #00af00; text-decoration-color: #00af00\">0</span> (unbuilt) │\n",
              "├─────────────────────────────────┼────────────────────────┼───────────────┤\n",
              "│ dense_7 (<span style=\"color: #0087ff; text-decoration-color: #0087ff\">Dense</span>)                 │ ?                      │   <span style=\"color: #00af00; text-decoration-color: #00af00\">0</span> (unbuilt) │\n",
              "└─────────────────────────────────┴────────────────────────┴───────────────┘\n",
              "</pre>\n"
            ]
          },
          "metadata": {}
        },
        {
          "output_type": "display_data",
          "data": {
            "text/plain": [
              "\u001b[1m Total params: \u001b[0m\u001b[38;5;34m0\u001b[0m (0.00 B)\n"
            ],
            "text/html": [
              "<pre style=\"white-space:pre;overflow-x:auto;line-height:normal;font-family:Menlo,'DejaVu Sans Mono',consolas,'Courier New',monospace\"><span style=\"font-weight: bold\"> Total params: </span><span style=\"color: #00af00; text-decoration-color: #00af00\">0</span> (0.00 B)\n",
              "</pre>\n"
            ]
          },
          "metadata": {}
        },
        {
          "output_type": "display_data",
          "data": {
            "text/plain": [
              "\u001b[1m Trainable params: \u001b[0m\u001b[38;5;34m0\u001b[0m (0.00 B)\n"
            ],
            "text/html": [
              "<pre style=\"white-space:pre;overflow-x:auto;line-height:normal;font-family:Menlo,'DejaVu Sans Mono',consolas,'Courier New',monospace\"><span style=\"font-weight: bold\"> Trainable params: </span><span style=\"color: #00af00; text-decoration-color: #00af00\">0</span> (0.00 B)\n",
              "</pre>\n"
            ]
          },
          "metadata": {}
        },
        {
          "output_type": "display_data",
          "data": {
            "text/plain": [
              "\u001b[1m Non-trainable params: \u001b[0m\u001b[38;5;34m0\u001b[0m (0.00 B)\n"
            ],
            "text/html": [
              "<pre style=\"white-space:pre;overflow-x:auto;line-height:normal;font-family:Menlo,'DejaVu Sans Mono',consolas,'Courier New',monospace\"><span style=\"font-weight: bold\"> Non-trainable params: </span><span style=\"color: #00af00; text-decoration-color: #00af00\">0</span> (0.00 B)\n",
              "</pre>\n"
            ]
          },
          "metadata": {}
        }
      ]
    },
    {
      "cell_type": "code",
      "source": [
        "model.fit(feature_train, label_train,\n",
        "          validation_data=(feature_test, label_test),\n",
        "          epochs=5,\n",
        "          class_weight=class_weights_dict)"
      ],
      "metadata": {
        "colab": {
          "base_uri": "https://localhost:8080/"
        },
        "id": "hDPlkufoZ9c-",
        "outputId": "5d41280c-b200-41e0-8e4e-3964d21d4b33"
      },
      "execution_count": 244,
      "outputs": [
        {
          "output_type": "stream",
          "name": "stdout",
          "text": [
            "Epoch 1/5\n",
            "\u001b[1m140/140\u001b[0m \u001b[32m━━━━━━━━━━━━━━━━━━━━\u001b[0m\u001b[37m\u001b[0m \u001b[1m24s\u001b[0m 143ms/step - accuracy: 0.8380 - loss: 0.6587 - val_accuracy: 0.9570 - val_loss: 0.1401\n",
            "Epoch 2/5\n",
            "\u001b[1m140/140\u001b[0m \u001b[32m━━━━━━━━━━━━━━━━━━━━\u001b[0m\u001b[37m\u001b[0m \u001b[1m15s\u001b[0m 104ms/step - accuracy: 0.9780 - loss: 0.0554 - val_accuracy: 0.9830 - val_loss: 0.0546\n",
            "Epoch 3/5\n",
            "\u001b[1m140/140\u001b[0m \u001b[32m━━━━━━━━━━━━━━━━━━━━\u001b[0m\u001b[37m\u001b[0m \u001b[1m10s\u001b[0m 73ms/step - accuracy: 0.9919 - loss: 0.0291 - val_accuracy: 0.9839 - val_loss: 0.0679\n",
            "Epoch 4/5\n",
            "\u001b[1m140/140\u001b[0m \u001b[32m━━━━━━━━━━━━━━━━━━━━\u001b[0m\u001b[37m\u001b[0m \u001b[1m20s\u001b[0m 71ms/step - accuracy: 0.9956 - loss: 0.0127 - val_accuracy: 0.9830 - val_loss: 0.0766\n",
            "Epoch 5/5\n",
            "\u001b[1m140/140\u001b[0m \u001b[32m━━━━━━━━━━━━━━━━━━━━\u001b[0m\u001b[37m\u001b[0m \u001b[1m9s\u001b[0m 62ms/step - accuracy: 0.9975 - loss: 0.0079 - val_accuracy: 0.9812 - val_loss: 0.0871\n"
          ]
        },
        {
          "output_type": "execute_result",
          "data": {
            "text/plain": [
              "<keras.src.callbacks.history.History at 0x7f73d68292d0>"
            ]
          },
          "metadata": {},
          "execution_count": 244
        }
      ]
    },
    {
      "cell_type": "code",
      "source": [
        "#This produces the probability distribution for the labels and classifies it to either spam or non spam\n",
        "#The closer it is to 1 the more spam it is\n",
        "label_prediction=model.predict(feature_test)\n",
        "\n",
        "label_prediction_class = (label_prediction > 0.5).astype(int)\n"
      ],
      "metadata": {
        "colab": {
          "base_uri": "https://localhost:8080/"
        },
        "id": "CdvPHcyKaRpc",
        "outputId": "71610a35-5883-4556-951c-b6f75d65b4ac"
      },
      "execution_count": 245,
      "outputs": [
        {
          "output_type": "stream",
          "name": "stdout",
          "text": [
            "\u001b[1m35/35\u001b[0m \u001b[32m━━━━━━━━━━━━━━━━━━━━\u001b[0m\u001b[37m\u001b[0m \u001b[1m1s\u001b[0m 32ms/step\n"
          ]
        }
      ]
    },
    {
      "cell_type": "code",
      "source": [
        "label_prediction_class"
      ],
      "metadata": {
        "colab": {
          "base_uri": "https://localhost:8080/"
        },
        "id": "VDn_0NP7aWdQ",
        "outputId": "9a63a9f8-898b-44e6-c689-bbc1164ae310"
      },
      "execution_count": 246,
      "outputs": [
        {
          "output_type": "execute_result",
          "data": {
            "text/plain": [
              "array([[1],\n",
              "       [1],\n",
              "       [1],\n",
              "       ...,\n",
              "       [1],\n",
              "       [1],\n",
              "       [1]])"
            ]
          },
          "metadata": {},
          "execution_count": 246
        }
      ]
    },
    {
      "cell_type": "markdown",
      "source": [
        "# Evaluation"
      ],
      "metadata": {
        "id": "lhY1gGMPcksV"
      }
    },
    {
      "cell_type": "code",
      "source": [
        "m.accuracy_score(label_test,label_prediction_class)"
      ],
      "metadata": {
        "colab": {
          "base_uri": "https://localhost:8080/"
        },
        "id": "hVGmkMLfce__",
        "outputId": "1f58b0e9-7672-44f1-dd0c-9aa4e906788e"
      },
      "execution_count": 247,
      "outputs": [
        {
          "output_type": "execute_result",
          "data": {
            "text/plain": [
              "0.9811659192825112"
            ]
          },
          "metadata": {},
          "execution_count": 247
        }
      ]
    },
    {
      "cell_type": "code",
      "source": [
        "print(m.confusion_matrix(label_test,label_prediction_class))"
      ],
      "metadata": {
        "colab": {
          "base_uri": "https://localhost:8080/"
        },
        "id": "7vLIQcOvcwyB",
        "outputId": "4f991c3b-1856-4ea9-e7ad-3b6ce8c7fe5c"
      },
      "execution_count": 248,
      "outputs": [
        {
          "output_type": "stream",
          "name": "stdout",
          "text": [
            "[[124  21]\n",
            " [  0 970]]\n"
          ]
        }
      ]
    },
    {
      "cell_type": "code",
      "source": [
        "#Confusion Matrix\n",
        "import seaborn as sns\n",
        "plt.figure(figsize=(7, 6))\n",
        "sns.heatmap(m.confusion_matrix(label_test,label_prediction_class),fmt='d', cmap='Blues', xticklabels=['Ham', 'Spam'], yticklabels=['Ham', 'Spam'],annot=True)\n",
        "plt.title('Confusion Matrix')\n",
        "plt.xlabel('Predicted')\n",
        "plt.ylabel('Actual')\n",
        "plt.show()\n"
      ],
      "metadata": {
        "colab": {
          "base_uri": "https://localhost:8080/",
          "height": 564
        },
        "id": "tnluCPUpc02_",
        "outputId": "4d643ccc-35c9-4e49-c107-6b3dafbb9927"
      },
      "execution_count": 256,
      "outputs": [
        {
          "output_type": "display_data",
          "data": {
            "text/plain": [
              "<Figure size 700x600 with 2 Axes>"
            ],
            "image/png": "[encoded data removed]"
          },
          "metadata": {}
        }
      ]
    },
    {
      "cell_type": "markdown",
      "source": [
        "# How This Has Been Implemented\n",
        "\n",
        "1.**label_test**: This is the true label from your dataset (whether an SMS is\n",
        "  actually spam or not), which has been encoded into 0 (non-spam) and 1 (spam).\n",
        "\n",
        "2.**label_prediction_class**: This is the model’s prediction for each sample, which has been passed through the neural network. The model outputs probabilities (values between 0 and 1), and you apply a threshold of 0.5 to convert these probabilities into 0 or 1. For example:\n",
        "\n",
        "\n",
        "\n",
        "> **How Accuracy_Score has been determined**\n",
        "\n",
        "\n",
        "\n",
        "If the model predicts a probability greater than 0.5, the predicted class is 1 (spam).\n",
        "\n",
        "If the model predicts a probability less than or equal to 0.5, the predicted class is 0 (non-spam).\n",
        "\n",
        "These two—label_test (true labels) and label_prediction_class (predicted labels)—are compared to evaluate the model's performance using metrics like accuracy_score"
      ],
      "metadata": {
        "id": "VjQzzDoyraPy"
      }
    },
    {
      "cell_type": "code",
      "source": [],
      "metadata": {
        "id": "GGqclH81sT8Y"
      },
      "execution_count": null,
      "outputs": []
    }
  ]
}